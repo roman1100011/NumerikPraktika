{
 "cells": [
  {
   "cell_type": "markdown",
   "metadata": {},
   "source": [
    "# LU-Zerlegung - Step by step"
   ]
  },
  {
   "cell_type": "markdown",
   "metadata": {},
   "source": [
    "Als Einleitung zum eigentlichen Praktikum setzen Sie hier die LU-Zerlegung Schritt für Schritt an einem Beispiel um. Gegeben ist das LGS $A \\vec{x}= \\vec{b}$, mit $A, \\vec{b}$"
   ]
  },
  {
   "cell_type": "markdown",
   "metadata": {},
   "source": [
    "## Erste Variante: ohne Pivotisierung"
   ]
  },
  {
   "cell_type": "markdown",
   "metadata": {},
   "source": [
    "Die Matrix $A$ ist vorgegeben. Wir erstellen gleich eine kleine Funktion, die diese Matrix zurückgibt, um später jederzeit Zugriff auf das Original zu haben."
   ]
  },
  {
   "cell_type": "code",
   "execution_count": 2,
   "metadata": {},
   "outputs": [],
   "source": [
    "import numpy as np\n",
    "\n",
    "def getA():\n",
    "    return np.array([[3.,6,3],[1,3,6],[6,3,3]])\n",
    "test 2"
   ]
  },
  {
   "cell_type": "code",
   "execution_count": 2,
   "metadata": {},
   "outputs": [
    {
     "name": "stdout",
     "output_type": "stream",
     "text": [
      "[[3. 6. 3.]\n",
      " [1. 3. 6.]\n",
      " [6. 3. 3.]]\n"
     ]
    }
   ],
   "source": [
    "A = getA()\n",
    "print(A)\n",
    "print('test')"
   ]
  },
  {
   "cell_type": "markdown",
   "metadata": {},
   "source": [
    "### erste Zeilenoperation"
   ]
  },
  {
   "cell_type": "markdown",
   "metadata": {},
   "source": [
    "Subtrahieren Sie geeignete Vielfache der ersten Zeile von der zweiten und dritten. Berechnen Sie jeweils die benötigten Faktoren aus den Matrixeinträgen!"
   ]
  },
  {
   "cell_type": "code",
   "execution_count": 3,
   "metadata": {},
   "outputs": [
    {
     "name": "stdout",
     "output_type": "stream",
     "text": [
      "[[ 3.  6.  3.]\n",
      " [ 0.  1.  5.]\n",
      " [ 0. -9. -3.]] \n",
      "\n",
      " [0.33333333 2.        ]\n"
     ]
    }
   ],
   "source": [
    "A = getA()\n",
    "L = A[1:,0] / A[0,0]          # Faktoren, diese ergeben nachher die Matrix L\n",
    "for k in range(1,3):\n",
    "    A[k] -= L[k-1]*A[0]       # Matrix R\n",
    "print(A, \"\\n\\n\", L)"
   ]
  },
  {
   "cell_type": "markdown",
   "metadata": {},
   "source": [
    "### zweite Zeilenoperation"
   ]
  },
  {
   "cell_type": "code",
   "execution_count": 4,
   "metadata": {},
   "outputs": [
    {
     "name": "stdout",
     "output_type": "stream",
     "text": [
      "[[ 3.  6.  3.]\n",
      " [ 0.  1.  5.]\n",
      " [ 0.  0. 42.]] \n",
      "\n",
      " [-9.]\n"
     ]
    }
   ],
   "source": [
    "L = A[2:,1] / A[1,1]\n",
    "A[2:3] = A[2:3] - L*A[1]\n",
    "print(A, \"\\n\\n\", L)"
   ]
  },
  {
   "cell_type": "markdown",
   "metadata": {},
   "source": [
    "Damit haben wir die Zeilenstufenform von $A$ - also die Matrix $R$ - gefunden. **Jetzt nochmal von vorn**, aber diesmal erstellen Sie die Matrix $L$ (ohne die Diagonale) im linken unteren Dreieck gleich mit:"
   ]
  },
  {
   "cell_type": "code",
   "execution_count": 5,
   "metadata": {},
   "outputs": [
    {
     "name": "stdout",
     "output_type": "stream",
     "text": [
      "[[3. 6. 3.]\n",
      " [1. 3. 6.]\n",
      " [6. 3. 3.]]\n"
     ]
    }
   ],
   "source": [
    "A = getA()\n",
    "print(A)"
   ]
  },
  {
   "cell_type": "markdown",
   "metadata": {},
   "source": [
    "Subtrahieren Sie geeignete Vielfache der ersten Zeile von der zweiten und dritten und Speichern Sie die Faktoren am richtigen Ort"
   ]
  },
  {
   "cell_type": "code",
   "execution_count": 6,
   "metadata": {},
   "outputs": [
    {
     "name": "stdout",
     "output_type": "stream",
     "text": [
      "[[ 3.          6.          3.        ]\n",
      " [ 0.33333333  1.          5.        ]\n",
      " [ 2.         -9.         -3.        ]] \n",
      "\n",
      "\n",
      "[[ 3.          6.          3.        ]\n",
      " [ 0.33333333  1.          5.        ]\n",
      " [ 2.         -9.         42.        ]]\n"
     ]
    }
   ],
   "source": [
    "A = getA()\n",
    "\n",
    "# erste Zeilenoperation\n",
    "A[1:,0] = A[1:,0] / A[0,0]\n",
    "for k in range(1,3):\n",
    "    A[k,1:] -= A[k,0]*A[0,1:]       # Matrix R\n",
    "print(A, \"\\n\\n\")\n",
    "\n",
    "# zweite Zeilenoperation\n",
    "A[2:,1] = A[2:,1] / A[1,1]\n",
    "A[2:,2:] -= A[2:,1]*A[1,2:]\n",
    "\n",
    "#Ausgabe\n",
    "print(A)"
   ]
  },
  {
   "cell_type": "markdown",
   "metadata": {},
   "source": [
    "Wir extrahieren die Matrizen L und R aus dem Resultat"
   ]
  },
  {
   "cell_type": "code",
   "execution_count": 7,
   "metadata": {},
   "outputs": [
    {
     "name": "stdout",
     "output_type": "stream",
     "text": [
      "L=\n",
      " [[ 1.          0.          0.        ]\n",
      " [ 0.33333333  1.          0.        ]\n",
      " [ 2.         -9.          1.        ]] \n",
      "\n",
      "R=\n",
      " [[ 3.  6.  3.]\n",
      " [ 0.  1.  5.]\n",
      " [ 0.  0. 42.]]\n"
     ]
    }
   ],
   "source": [
    "L = np.tril(A, -1) + np.identity(3)\n",
    "R = np.triu(A)\n",
    "print(\"L=\\n\", L,\"\\n\\nR=\\n\", R)"
   ]
  },
  {
   "cell_type": "markdown",
   "metadata": {},
   "source": [
    "Jetzt testen wir, ob tatsächlich $LR = A$ gilt:"
   ]
  },
  {
   "cell_type": "code",
   "execution_count": 8,
   "metadata": {},
   "outputs": [
    {
     "name": "stdout",
     "output_type": "stream",
     "text": [
      "[[0. 0. 0.]\n",
      " [0. 0. 0.]\n",
      " [0. 0. 0.]]\n"
     ]
    }
   ],
   "source": [
    "print(L@R - getA())  #sollte die Nullmatrix geben, evtl. bis auf Rundungsfehler ~1e-16"
   ]
  },
  {
   "cell_type": "markdown",
   "metadata": {},
   "source": [
    "## Zweite Variante, mit Pivotisierung"
   ]
  },
  {
   "cell_type": "markdown",
   "metadata": {},
   "source": [
    "Jetzt nochmal von vorn, diesmal mit Pivotisierung"
   ]
  },
  {
   "cell_type": "code",
   "execution_count": 9,
   "metadata": {},
   "outputs": [
    {
     "name": "stdout",
     "output_type": "stream",
     "text": [
      "[[3. 6. 3.]\n",
      " [1. 3. 6.]\n",
      " [6. 3. 3.]]\n"
     ]
    }
   ],
   "source": [
    "A = getA()\n",
    "\n",
    "print(A)"
   ]
  },
  {
   "cell_type": "markdown",
   "metadata": {},
   "source": [
    "Initialisieren Sie einen Indexvektor *idx = [0,1,2]*. Dieser Vektor enthält am Ende der LU-Zerlegung die (neue) Reihenfolge der Zeilen."
   ]
  },
  {
   "cell_type": "code",
   "execution_count": 10,
   "metadata": {},
   "outputs": [
    {
     "name": "stdout",
     "output_type": "stream",
     "text": [
      "[0 1 2]\n"
     ]
    }
   ],
   "source": [
    "idx = np.arange(3)\n",
    "idxc = idx.copy()\n",
    "print(idx)"
   ]
  },
  {
   "cell_type": "markdown",
   "metadata": {},
   "source": [
    "Als **Vorübung**: bestimmen Sie die Zeile $p$ mit dem betragsmässig grössten Element der ersten Spalte von $A$. *Hinweis: **np.argmax**"
   ]
  },
  {
   "cell_type": "code",
   "execution_count": 11,
   "metadata": {},
   "outputs": [
    {
     "name": "stdout",
     "output_type": "stream",
     "text": [
      "2\n"
     ]
    }
   ],
   "source": [
    "p = np.argmax(np.abs(A[:,0]))\n",
    "print(p)"
   ]
  },
  {
   "cell_type": "markdown",
   "metadata": {},
   "source": [
    "Tauschen Sie in der Matrix $A$ die erste Zeile (Index $0$) mit der Zeile $p$ und ebenso den ersten Eintrag von **idx** mit dem Eintrag $p$"
   ]
  },
  {
   "cell_type": "code",
   "execution_count": 12,
   "metadata": {},
   "outputs": [
    {
     "name": "stdout",
     "output_type": "stream",
     "text": [
      "A=\n",
      " [[6. 3. 3.]\n",
      " [1. 3. 6.]\n",
      " [3. 6. 3.]] \n",
      "\n",
      "idx=\n",
      " [2 1 0]\n"
     ]
    }
   ],
   "source": [
    "A = getA()\n",
    "idx = np.arange(3)\n",
    "A[[0,p]] = A[[p,0]]\n",
    "idx[[0,p]]= idx[[p,0]]\n",
    "print(\"A=\\n\", A, \"\\n\\nidx=\\n\", idx)"
   ]
  },
  {
   "cell_type": "markdown",
   "metadata": {},
   "source": [
    "Jetzt führen Sie die erste Zeilenoperation mit der aktuellen Matrix $A$ aus und speichern Sie die Faktoren $L$ in der unteren linken Dreiecksmatrix"
   ]
  },
  {
   "cell_type": "code",
   "execution_count": 13,
   "metadata": {},
   "outputs": [
    {
     "name": "stdout",
     "output_type": "stream",
     "text": [
      "[[6.         3.         3.        ]\n",
      " [0.16666667 2.5        5.5       ]\n",
      " [0.5        4.5        1.5       ]]\n"
     ]
    }
   ],
   "source": [
    "# erste Zeilenoperation\n",
    "A[1:,0] = A[1:,0] / A[0,0]\n",
    "for k in range(1,3):\n",
    "    A[k,1:] -= A[k,0]*A[0,1:]       # Matrix R\n",
    "print(A)"
   ]
  },
  {
   "cell_type": "markdown",
   "metadata": {},
   "source": [
    "bestimmen Sie die Zeile $p$ mit dem betragsmässig grössten Element der zweiten Spalte von $A$, von der zweiten Zeile an"
   ]
  },
  {
   "cell_type": "code",
   "execution_count": 14,
   "metadata": {},
   "outputs": [
    {
     "name": "stdout",
     "output_type": "stream",
     "text": [
      "2\n"
     ]
    }
   ],
   "source": [
    "p = 1 + np.argmax(np.abs(A[1:,1]))\n",
    "print(p)"
   ]
  },
  {
   "cell_type": "markdown",
   "metadata": {},
   "source": [
    "Tauschen Sie die entsprechenden Zeilen von $A$ (das betrifft die Anteile $L$ und $R$ gleichermassen) "
   ]
  },
  {
   "cell_type": "code",
   "execution_count": 15,
   "metadata": {},
   "outputs": [
    {
     "name": "stdout",
     "output_type": "stream",
     "text": [
      "A=\n",
      " [[6.         3.         3.        ]\n",
      " [0.5        4.5        1.5       ]\n",
      " [0.16666667 2.5        5.5       ]] \n",
      "\n",
      "idx=\n",
      " [2 0 1]\n"
     ]
    }
   ],
   "source": [
    "A[[1,p]] = A[[p,1]]\n",
    "idx[[1,p]]= idx[[p,1]]\n",
    "print(\"A=\\n\", A, \"\\n\\nidx=\\n\", idx)"
   ]
  },
  {
   "cell_type": "markdown",
   "metadata": {},
   "source": [
    "Jetzt führen Sie die zweite Zeilenoperation mit der aktuellen Matrix $A$ aus und speichern Sie wiederum $L$"
   ]
  },
  {
   "cell_type": "code",
   "execution_count": 16,
   "metadata": {},
   "outputs": [],
   "source": [
    "# zweite Zeilenoperation\n",
    "A[2:,1] = A[2:,1] / A[1,1]\n",
    "A[2:,2:] -= A[2:,1]*A[1,2:]"
   ]
  },
  {
   "cell_type": "code",
   "execution_count": 17,
   "metadata": {},
   "outputs": [
    {
     "name": "stdout",
     "output_type": "stream",
     "text": [
      "[[6.         3.         3.        ]\n",
      " [0.5        4.5        1.5       ]\n",
      " [0.16666667 0.55555556 4.66666667]]\n"
     ]
    }
   ],
   "source": [
    "print(A)"
   ]
  },
  {
   "cell_type": "markdown",
   "metadata": {},
   "source": [
    "Jetzt sind wir fertig. Wir extrahieren (testhalber) die Matrizen $L, R$"
   ]
  },
  {
   "cell_type": "code",
   "execution_count": 18,
   "metadata": {},
   "outputs": [
    {
     "name": "stdout",
     "output_type": "stream",
     "text": [
      "L=\n",
      " [[1.         0.         0.        ]\n",
      " [0.5        1.         0.        ]\n",
      " [0.16666667 0.55555556 1.        ]] \n",
      "\n",
      "R=\n",
      " [[6.         3.         3.        ]\n",
      " [0.         4.5        1.5       ]\n",
      " [0.         0.         4.66666667]]\n"
     ]
    }
   ],
   "source": [
    "L = np.tril(A, -1) + np.identity(3)\n",
    "R = np.triu(A)\n",
    "print(\"L=\\n\", L,\"\\n\\nR=\\n\", R)"
   ]
  },
  {
   "cell_type": "markdown",
   "metadata": {},
   "source": [
    "jetzt sollte $L R = A$ sein:"
   ]
  },
  {
   "cell_type": "code",
   "execution_count": 19,
   "metadata": {},
   "outputs": [
    {
     "name": "stdout",
     "output_type": "stream",
     "text": [
      "[[0. 0. 0.]\n",
      " [0. 0. 0.]\n",
      " [0. 0. 0.]]\n"
     ]
    }
   ],
   "source": [
    "print(L@R-getA()[idx])"
   ]
  }
 ],
 "metadata": {
  "kernelspec": {
   "display_name": "Python 3 (ipykernel)",
   "language": "python",
   "name": "python3"
  },
  "language_info": {
   "codemirror_mode": {
    "name": "ipython",
    "version": 3
   },
   "file_extension": ".py",
   "mimetype": "text/x-python",
   "name": "python",
   "nbconvert_exporter": "python",
   "pygments_lexer": "ipython3",
   "version": "3.8.2"
  }
 },
 "nbformat": 4,
 "nbformat_minor": 4
}
