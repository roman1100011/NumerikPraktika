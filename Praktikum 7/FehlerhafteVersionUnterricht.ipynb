{
 "cells": [
  {
   "cell_type": "code",
   "execution_count": 1,
   "id": "091f6c45",
   "metadata": {},
   "outputs": [],
   "source": [
    "import numpy as np\n",
    "import matplotlib.pyplot as plt"
   ]
  },
  {
   "cell_type": "code",
   "execution_count": 2,
   "id": "83fb893b",
   "metadata": {},
   "outputs": [],
   "source": [
    "data = np.array([\n",
    "    [0.1, 0.3, 0.7, 1.2, 1.6, 2.2, 2.7, 3.1, 3.5, 3.9],\n",
    "    [0.558, 0.569, 0.176, -0.207, -0.133, 0.132, 0.055, -0.090, -0.069, 0.027]\n",
    "]).T"
   ]
  },
  {
   "cell_type": "code",
   "execution_count": 4,
   "id": "4a3576f5",
   "metadata": {},
   "outputs": [
    {
     "data": {
      "text/plain": [
       "[<matplotlib.lines.Line2D at 0x7fa282aa1c40>]"
      ]
     },
     "execution_count": 4,
     "metadata": {},
     "output_type": "execute_result"
    },
    {
     "data": {
      "image/png": "[encoded data removed]",
      "text/plain": [
       "<Figure size 432x288 with 1 Axes>"
      ]
     },
     "metadata": {
      "needs_background": "light"
     },
     "output_type": "display_data"
    }
   ],
   "source": [
    "plt.plot(*data.T,'o')"
   ]
  },
  {
   "cell_type": "code",
   "execution_count": 5,
   "id": "5e6b0134",
   "metadata": {},
   "outputs": [],
   "source": [
    "ti = data[:,0]\n",
    "yi = data[:,1]"
   ]
  },
  {
   "cell_type": "code",
   "execution_count": 10,
   "id": "a53e04b7",
   "metadata": {},
   "outputs": [],
   "source": [
    "def y(t,x):\n",
    "    A, tau, omega, phi = x\n",
    "    return A*np.exp(-tau*t)*np.sin(omega*t+phi)\n",
    "\n",
    "def F(x):\n",
    "    return y(ti,x)-yi\n",
    "\n",
    "def dF(x):\n",
    "    A, tau, omega, phi = x\n",
    "    return np.array([np.exp(-tau*ti)*np.sin(omega*ti+phi),\n",
    "                     -ti*A*np.exp(-tau*ti)*np.sin(omega*ti+phi),\n",
    "                     ti*A*np.exp(-tau*ti)*np.cos(omega*ti+phi),\n",
    "                     A*np.exp(-tau*ti)*np.cos(omega*ti+phi)]).T\n"
   ]
  },
  {
   "cell_type": "code",
   "execution_count": 11,
   "id": "50d52769",
   "metadata": {},
   "outputs": [
    {
     "data": {
      "text/plain": [
       "[<matplotlib.lines.Line2D at 0x7fa283de6df0>]"
      ]
     },
     "execution_count": 11,
     "metadata": {},
     "output_type": "execute_result"
    },
    {
     "data": {
      "image/png": "[encoded data removed]",
      "text/plain": [
       "<Figure size 432x288 with 1 Axes>"
      ]
     },
     "metadata": {
      "needs_background": "light"
     },
     "output_type": "display_data"
    }
   ],
   "source": [
    "x0 = np.array([1,1,3,1],dtype=float)\n",
    "plt.plot(*data.T,'o')\n",
    "plt.plot(ti,y(ti,x0))"
   ]
  },
  {
   "cell_type": "code",
   "execution_count": 12,
   "id": "902803cc",
   "metadata": {},
   "outputs": [],
   "source": [
    "from scipy.linalg import solve_triangular"
   ]
  },
  {
   "cell_type": "code",
   "execution_count": 15,
   "id": "508f130a",
   "metadata": {},
   "outputs": [
    {
     "name": "stdout",
     "output_type": "stream",
     "text": [
      "0 0.7455697672470322\n",
      "1 1.3687529641965246\n",
      "2 3.9687389278493894\n",
      "3 15.665559966822652\n",
      "4 64.18100999462226\n",
      "5 260.89274530520373\n",
      "6 1053.0241197905189\n",
      "7 4232.177086712579\n",
      "8 16970.08010813016\n",
      "9 67964.29336790397\n",
      "10 272026.3582754814\n",
      "11 1088445.0464129217\n",
      "12 4354460.65836314\n",
      "13 17419204.826158136\n",
      "14 69679544.93792304\n",
      "15 278723632.2664505\n",
      "16 1114905435.343646\n",
      "17 4459643555.178674\n",
      "18 17838617849.571312\n",
      "19 71354558657.24695\n",
      "20 285418409148.15955\n",
      "21 1141673985632.2302\n",
      "22 4566696640609.356\n",
      "23 18266787958599.54\n",
      "24 73067154626723.6\n",
      "25 292268624091547.0\n",
      "26 1169074507535492.8\n",
      "27 4676298052480585.0\n",
      "28 1.870519225459956e+16\n",
      "29 7.48207691077527e+16\n",
      "30 2.9928307660971955e+17\n",
      "31 1.1971323067962962e+18\n",
      "32 4.788529227900022e+18\n",
      "33 1.9154116913029755e+19\n",
      "34 7.66164676549784e+19\n",
      "35 3.064658706256323e+20\n",
      "36 1.225863482513965e+21\n",
      "37 4.903453930078736e+21\n",
      "38 1.961381572036069e+22\n",
      "39 7.845526288153428e+22\n",
      "40 3.138210515263201e+23\n",
      "41 1.2552842061056468e+24\n",
      "42 5.021136824423315e+24\n",
      "43 2.0084547297694726e+25\n",
      "44 8.033818919078183e+25\n",
      "45 3.213527567631332e+26\n",
      "46 1.285411027052544e+27\n",
      "47 5.141644108210201e+27\n",
      "48 2.0566576432840847e+28\n",
      "49 8.226630573136342e+28\n",
      "50 3.29065222925454e+29\n",
      "51 1.3162608917018164e+30\n",
      "52 5.265043566807268e+30\n",
      "53 2.1060174267229067e+31\n",
      "54 8.424069706891625e+31\n",
      "55 3.36962788275665e+32\n",
      "56 1.34785115310266e+33\n",
      "57 5.391404612410638e+33\n",
      "58 2.1565618449642547e+34\n",
      "59 8.626247379857017e+34\n",
      "60 3.450498951942807e+35\n",
      "61 1.3801995807771233e+36\n",
      "62 5.520798323108491e+36\n",
      "63 2.2083193292433972e+37\n",
      "64 8.833277316973593e+37\n",
      "65 3.533310926789437e+38\n",
      "66 1.4133243707157748e+39\n",
      "67 5.653297482863099e+39\n",
      "68 2.2613189931452397e+40\n",
      "69 9.045275972580959e+40\n",
      "70 3.6181103890323836e+41\n",
      "71 1.4472441556129534e+42\n",
      "72 5.788976622451814e+42\n",
      "73 2.3155906489807255e+43\n",
      "74 9.262362595922902e+43\n",
      "75 3.704945038369161e+44\n",
      "76 1.4819780153476643e+45\n",
      "77 5.927912061390657e+45\n",
      "78 2.371164824556263e+46\n",
      "79 9.484659298225052e+46\n",
      "80 3.793863719290021e+47\n",
      "81 1.5175454877160083e+48\n",
      "82 6.070181950864033e+48\n",
      "83 2.428072780345613e+49\n",
      "84 9.712291121382453e+49\n",
      "85 3.884916448552981e+50\n",
      "86 1.5539665794211925e+51\n",
      "87 6.21586631768477e+51\n",
      "88 2.486346527073908e+52\n",
      "89 9.945386108295632e+52\n",
      "90 3.978154443318253e+53\n",
      "91 1.591261777327301e+54\n",
      "92 6.365047109309204e+54\n",
      "93 2.5460188437236817e+55\n",
      "94 1.0184075374894727e+56\n",
      "95 4.073630149957891e+56\n",
      "96 1.6294520599831563e+57\n",
      "97 6.517808239932625e+57\n",
      "98 2.60712329597305e+58\n",
      "99 1.04284931838922e+59\n"
     ]
    }
   ],
   "source": [
    "maxIter = 100\n",
    "tol = 1e-10\n",
    "x = x0.copy()\n",
    "for k in range(maxIter):\n",
    "    A = dF(x)\n",
    "    b = F(x)\n",
    "    q,r = np.linalg.qr(A)\n",
    "    s = solve_triangular(r,q.T@b)\n",
    "    x += s\n",
    "    err = np.linalg.norm(dF(x).T@F(x))\n",
    "    print(k, err)\n",
    "    if err < tol:\n",
    "        break\n"
   ]
  },
  {
   "cell_type": "code",
   "execution_count": null,
   "id": "d42e5b37",
   "metadata": {},
   "outputs": [],
   "source": []
  }
 ],
 "metadata": {
  "kernelspec": {
   "display_name": "Python 3 (ipykernel)",
   "language": "python",
   "name": "python3"
  },
  "language_info": {
   "codemirror_mode": {
    "name": "ipython",
    "version": 3
   },
   "file_extension": ".py",
   "mimetype": "text/x-python",
   "name": "python",
   "nbconvert_exporter": "python",
   "pygments_lexer": "ipython3",
   "version": "3.8.2"
  }
 },
 "nbformat": 4,
 "nbformat_minor": 5
}
