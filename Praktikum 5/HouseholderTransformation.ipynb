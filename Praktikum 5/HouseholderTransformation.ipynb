{
 "cells": [
  {
   "cell_type": "markdown",
   "metadata": {},
   "source": [
    "# Householder-Transformation schrittweise"
   ]
  },
  {
   "cell_type": "code",
   "execution_count": 24,
   "metadata": {},
   "outputs": [],
   "source": [
    "import numpy as np\n",
    "from numpy.linalg import norm"
   ]
  },
  {
   "attachments": {},
   "cell_type": "markdown",
   "metadata": {},
   "source": [
    "Die allgemeine Schreibweise der Householder-Transformation für einen beliebigen Vektor $w$ ist gegeben durch\n",
    "\\begin{equation}H(w) = \\text{id} - 2\\,\\frac{w\\cdot w^T}{\\langle w, w\\rangle}\n",
    "\\end{equation}\n",
    "wobei $w\\cdot w^T$ das Kroneckerprodukt\n",
    "$$w\\cdot w^T = (w_i\\,w_j)_{i,j=1\\ldots m}\\in\\mathbb{R}^{m\\times m}$$\n",
    "sei."
   ]
  },
  {
   "cell_type": "code",
   "execution_count": 48,
   "metadata": {},
   "outputs": [
    {
     "name": "stdout",
     "output_type": "stream",
     "text": [
      "[[1. 2. 3.]\n",
      " [2. 4. 6.]\n",
      " [3. 6. 9.]]\n",
      "[[ 0.85714286 -0.28571429 -0.42857143]\n",
      " [-0.28571429  0.42857143 -0.85714286]\n",
      " [-0.42857143 -0.85714286 -0.28571429]]\n"
     ]
    }
   ],
   "source": [
    "# Selber implementieren\n",
    "\n",
    "def Kronecker(w):\n",
    "    res = np.zeros([len(w),len(w)],dtype=float)\n",
    "    for i in range(len(w)):\n",
    "        res[:,i] = w * w[i]\n",
    "    return(res)\n",
    "\n",
    "def HouseholderTransformation(w):\n",
    "    H = np.eye(len(w)) - (Kronecker(w) / (0.5 * np.dot(w,w)))\n",
    "    return H\n",
    "\n",
    "testw = np.array([1,2,3])\n",
    "print(Kronecker(testw))\n",
    "print(HouseholderTransformation(testw))"
   ]
  },
  {
   "cell_type": "markdown",
   "metadata": {},
   "source": [
    "Gesucht ist der geeignete Normalenvektor so, dass der gespiegelte Spaltenvektor auf die $e_1$ Achse zu liegen kommt. Sei mit $y$ der Spaltenvektor bezeichnet, so kann man zeigen (siehe Skript), dass der Vektor\n",
    "\\begin{equation}\n",
    "w = y \\pm \\|y\\|_2 e_1\n",
    "\\end{equation}\n",
    "die gewünschte Eigenschaft hat. Um **Auslöschung** in der Berechnung von $w$ zu vermeiden, wählt man\n",
    "\\begin{equation}\n",
    "w = y + \\text{sign}(y_1) \\|y\\|_2 e_1\n",
    "\\end{equation}\n",
    "mit\n",
    "\\begin{equation}\n",
    "\\text{sign}(s) = \\begin{cases} 1 & \\quad \\text{für} s \\ge 0\\\\ -1 & \\quad \\text{sonst}.\\end{cases}\n",
    "\\end{equation}"
   ]
  },
  {
   "cell_type": "code",
   "execution_count": 49,
   "metadata": {},
   "outputs": [],
   "source": [
    "def mysign(x): # numpy sign liefert 0 für 0\n",
    "    if x >= 0:\n",
    "        return 1\n",
    "    else:\n",
    "        return -1"
   ]
  },
  {
   "cell_type": "markdown",
   "metadata": {},
   "source": [
    "Funktion für den n-dimensionalen Einheitsvektor"
   ]
  },
  {
   "cell_type": "code",
   "execution_count": 50,
   "metadata": {},
   "outputs": [],
   "source": [
    "def e(n):\n",
    "    return np.array([1]+[0 for k in range(n-1)])"
   ]
  },
  {
   "cell_type": "markdown",
   "metadata": {},
   "source": [
    "Mit Hilfe der Householder-Transformation soll nun die Matrix $A$ in eine orthogonale Matrix $Q$ und reguläre obere Dreiecksmatrix $R$ zerlegt werden. Im Beispiel wählen wir eine zufällige Matrix $A \\in \\mathbb{R}^{10\\times5}$."
   ]
  },
  {
   "cell_type": "code",
   "execution_count": 51,
   "metadata": {},
   "outputs": [],
   "source": [
    "A = np.array([[-1,  7, -8, -9,  6],\n",
    "       [-6, -8,  0,  3,  8],\n",
    "       [-4, -2,  8,  0, -2],\n",
    "       [-1, -9,  4, -8,  2],\n",
    "       [-3, -5, -5,  7, -4],\n",
    "       [-7, -4,  7, -1,  5],\n",
    "       [-9, -7,  6, -5, -8],\n",
    "       [-4, -3, -5,  3, -6],\n",
    "       [ 5,  7,  5, -4, -5],\n",
    "       [ 4, -6, -8, -2, -5]],dtype=float)\n",
    "m,n = A.shape"
   ]
  },
  {
   "cell_type": "markdown",
   "metadata": {},
   "source": [
    "### 1. Spalte"
   ]
  },
  {
   "cell_type": "code",
   "execution_count": 52,
   "metadata": {},
   "outputs": [],
   "source": [
    "k = 0"
   ]
  },
  {
   "cell_type": "markdown",
   "metadata": {},
   "source": [
    "Die Hyperebene ist definiert durch"
   ]
  },
  {
   "cell_type": "code",
   "execution_count": 53,
   "metadata": {},
   "outputs": [],
   "source": [
    "y = A[:,k]\n",
    "w = y + mysign(y[0]) * np.linalg.norm(y) * e(len(y))"
   ]
  },
  {
   "cell_type": "markdown",
   "metadata": {},
   "source": [
    "Für die Householder-Transformationsmatrix angewand auf $A$ erhalten wir"
   ]
  },
  {
   "cell_type": "code",
   "execution_count": 54,
   "metadata": {},
   "outputs": [
    {
     "name": "stdout",
     "output_type": "stream",
     "text": [
      "[[ 1.58113883e+01  1.18269184e+01 -6.51429198e+00 -6.32455532e-01\n",
      "  -1.26491106e+00]\n",
      " [-1.49880108e-15 -6.27726835e+00  5.30250564e-01  5.98638434e+00\n",
      "   5.40714654e+00]\n",
      " [-3.33066907e-16 -8.51512234e-01  8.35350038e+00  1.99092290e+00\n",
      "  -3.72856898e+00]\n",
      " [-1.94289029e-16 -8.71287806e+00  4.08837509e+00 -7.50226928e+00\n",
      "   1.56785776e+00]\n",
      " [-3.05311332e-16 -4.13863418e+00 -4.73487472e+00  8.49319217e+00\n",
      "  -5.29642673e+00]\n",
      " [-1.66533454e-15 -1.99014641e+00  7.61862566e+00  2.48411507e+00\n",
      "   1.97500429e+00]\n",
      " [-2.33146835e-15 -4.41590253e+00  6.79537585e+00 -5.20423485e-01\n",
      "  -1.18892802e+01]\n",
      " [-5.55111512e-16 -1.85151223e+00 -4.64649962e+00  4.99092290e+00\n",
      "  -7.72856898e+00]\n",
      " [ 9.99200722e-16  5.56439029e+00  4.55812453e+00 -6.48865362e+00\n",
      "  -2.83928878e+00]\n",
      " [ 4.44089210e-16 -7.14848777e+00 -8.35350038e+00 -3.99092290e+00\n",
      "  -3.27143102e+00]]\n",
      "[[-1.  7. -8. -9.  6.]\n",
      " [-6. -8.  0.  3.  8.]\n",
      " [-4. -2.  8.  0. -2.]\n",
      " [-1. -9.  4. -8.  2.]\n",
      " [-3. -5. -5.  7. -4.]\n",
      " [-7. -4.  7. -1.  5.]\n",
      " [-9. -7.  6. -5. -8.]\n",
      " [-4. -3. -5.  3. -6.]\n",
      " [ 5.  7.  5. -4. -5.]\n",
      " [ 4. -6. -8. -2. -5.]]\n"
     ]
    }
   ],
   "source": [
    "Q1 = HouseholderTransformation(w)\n",
    "A1 = Q1@A\n",
    "print(A1)\n",
    "print(A)"
   ]
  },
  {
   "cell_type": "markdown",
   "metadata": {},
   "source": [
    "In der ersten Spalte der Zwischenmatrix $A_1$ stehen nun abgesehen vom ersten Eintrag Nullen:"
   ]
  },
  {
   "cell_type": "code",
   "execution_count": 55,
   "metadata": {},
   "outputs": [
    {
     "name": "stdout",
     "output_type": "stream",
     "text": [
      "[[ 15.8114  11.8269  -6.5143  -0.6325  -1.2649]\n",
      " [ -0.      -6.2773   0.5303   5.9864   5.4071]\n",
      " [ -0.      -0.8515   8.3535   1.9909  -3.7286]\n",
      " [ -0.      -8.7129   4.0884  -7.5023   1.5679]\n",
      " [ -0.      -4.1386  -4.7349   8.4932  -5.2964]\n",
      " [ -0.      -1.9901   7.6186   2.4841   1.975 ]\n",
      " [ -0.      -4.4159   6.7954  -0.5204 -11.8893]\n",
      " [ -0.      -1.8515  -4.6465   4.9909  -7.7286]\n",
      " [  0.       5.5644   4.5581  -6.4887  -2.8393]\n",
      " [  0.      -7.1485  -8.3535  -3.9909  -3.2714]]\n"
     ]
    }
   ],
   "source": [
    "print(np.round(A1,4))"
   ]
  },
  {
   "cell_type": "markdown",
   "metadata": {},
   "source": [
    "### 2. Spalte "
   ]
  },
  {
   "cell_type": "code",
   "execution_count": 56,
   "metadata": {},
   "outputs": [],
   "source": [
    "k = 1"
   ]
  },
  {
   "cell_type": "markdown",
   "metadata": {},
   "source": [
    "Die Hyperebene ist definiert durch"
   ]
  },
  {
   "cell_type": "code",
   "execution_count": 57,
   "metadata": {},
   "outputs": [
    {
     "name": "stdout",
     "output_type": "stream",
     "text": [
      "[-21.83760254  -0.85151223  -8.71287806  -4.13863418  -1.99014641\n",
      "  -4.41590253  -1.85151223   5.56439029  -7.14848777]\n"
     ]
    }
   ],
   "source": [
    "y = A1[k:,k]\n",
    "w = y.T + mysign(y[0]) * np.linalg.norm(y) * e(len(y))\n",
    "print(w)"
   ]
  },
  {
   "cell_type": "markdown",
   "metadata": {},
   "source": [
    "wobei nun das letzte Resultat $A_1$ benutzt wird. Die Householder-Transformationsmatrix wird nun nur auf die Submatrix von $A_1$ angewand und in der Submatrix von $A_1$ wiederum gespeichert:"
   ]
  },
  {
   "cell_type": "code",
   "execution_count": 58,
   "metadata": {},
   "outputs": [
    {
     "name": "stdout",
     "output_type": "stream",
     "text": [
      "[[ 1.58113883e+01  1.18269184e+01 -6.51429198e+00 -6.32455532e-01\n",
      "  -1.26491106e+00]\n",
      " [-1.49880108e-15  1.55603342e+01  1.41667909e+00 -1.83286552e+00\n",
      "   3.08219601e+00]\n",
      " [-3.33066907e-16 -9.44220281e-17  8.38806483e+00  1.68602739e+00\n",
      "  -3.81922562e+00]\n",
      " [-1.94289029e-16 -1.12676319e-15  4.44204687e+00 -1.06220335e+01\n",
      "   6.40237136e-01]\n",
      " [-3.05311332e-16 -4.83033033e-16 -4.56687993e+00  7.01129806e+00\n",
      "  -5.73704835e+00]\n",
      " [-1.66533454e-15 -1.52838505e-16  7.69940937e+00  1.77151614e+00\n",
      "   1.76312243e+00]\n",
      " [-2.33146835e-15 -2.67963743e-16  6.97462546e+00 -2.10159730e+00\n",
      "  -1.23594213e+01]\n",
      " [-5.55111512e-16 -3.53669793e-16 -4.57134333e+00  4.32796382e+00\n",
      "  -7.92569109e+00]\n",
      " [ 9.99200722e-16  6.67235947e-16  4.33225568e+00 -4.49624818e+00\n",
      "  -2.24687338e+00]\n",
      " [ 4.44089210e-16 -8.54018702e-16 -8.06333009e+00 -6.55053592e+00\n",
      "  -4.03249810e+00]]\n"
     ]
    }
   ],
   "source": [
    "Q2 = HouseholderTransformation(w)\n",
    "A1[k:,k:] = Q2@A1[k:,k:]\n",
    "print(Q2)"
   ]
  },
  {
   "cell_type": "markdown",
   "metadata": {},
   "source": [
    "Die Dimension der zweiten Householder-Transformationsmatrix $Q_2$ ist"
   ]
  },
  {
   "cell_type": "code",
   "execution_count": 59,
   "metadata": {},
   "outputs": [
    {
     "data": {
      "text/plain": [
       "(9, 9)"
      ]
     },
     "execution_count": 59,
     "metadata": {},
     "output_type": "execute_result"
    }
   ],
   "source": [
    "Q2.shape"
   ]
  },
  {
   "cell_type": "markdown",
   "metadata": {},
   "source": [
    "In dem ersten beiden Spalte der Zwischenmatrix $A_1$ steht:"
   ]
  },
  {
   "cell_type": "code",
   "execution_count": 60,
   "metadata": {},
   "outputs": [
    {
     "name": "stdout",
     "output_type": "stream",
     "text": [
      "[[ 15.8114  11.8269  -6.5143  -0.6325  -1.2649]\n",
      " [ -0.      15.5603   1.4167  -1.8329   3.0822]\n",
      " [ -0.      -0.       8.3881   1.686   -3.8192]\n",
      " [ -0.      -0.       4.442  -10.622    0.6402]\n",
      " [ -0.      -0.      -4.5669   7.0113  -5.737 ]\n",
      " [ -0.      -0.       7.6994   1.7715   1.7631]\n",
      " [ -0.      -0.       6.9746  -2.1016 -12.3594]\n",
      " [ -0.      -0.      -4.5713   4.328   -7.9257]\n",
      " [  0.       0.       4.3323  -4.4962  -2.2469]\n",
      " [  0.      -0.      -8.0633  -6.5505  -4.0325]]\n"
     ]
    }
   ],
   "source": [
    "print(np.round(A1,4))"
   ]
  },
  {
   "cell_type": "markdown",
   "metadata": {},
   "source": [
    "### 3. - 5. Spalte "
   ]
  },
  {
   "cell_type": "markdown",
   "metadata": {},
   "source": [
    "Wir automatisieren nun den Prozess und überschreiben die Submatrizen der Matrix $A_1$ sukzessive:"
   ]
  },
  {
   "cell_type": "code",
   "execution_count": 67,
   "metadata": {},
   "outputs": [
    {
     "name": "stdout",
     "output_type": "stream",
     "text": [
      "Spalte 3\n",
      "[[15.8114 11.8269 -6.5143 -0.6325 -1.2649]\n",
      " [-0.     15.5603  1.4167 -1.8329  3.0822]\n",
      " [-0.     -0.     17.9877 -2.92   -0.9232]\n",
      " [-0.     -0.      0.     15.6753 -1.5851]\n",
      " [-0.     -0.      0.      0.     16.8682]]\n",
      "Spalte 4\n",
      "[[ 15.8114  11.8269  -6.5143  -0.6325  -1.2649]\n",
      " [ -0.      15.5603   1.4167  -1.8329   3.0822]\n",
      " [ -0.      -0.      17.9877  -2.92    -0.9232]\n",
      " [ -0.      -0.       0.     -15.6753   1.5851]\n",
      " [ -0.      -0.       0.       0.      16.8682]]\n",
      "Spalte 5\n",
      "[[ 15.8114  11.8269  -6.5143  -0.6325  -1.2649]\n",
      " [ -0.      15.5603   1.4167  -1.8329   3.0822]\n",
      " [ -0.      -0.      17.9877  -2.92    -0.9232]\n",
      " [ -0.      -0.       0.     -15.6753   1.5851]\n",
      " [ -0.      -0.       0.       0.     -16.8682]]\n",
      "[[ 15.8114  11.8269  -6.5143  -0.6325  -1.2649]\n",
      " [ -0.      15.5603   1.4167  -1.8329   3.0822]\n",
      " [ -0.      -0.      17.9877  -2.92    -0.9232]\n",
      " [ -0.      -0.       0.     -15.6753   1.5851]\n",
      " [ -0.      -0.       0.       0.     -16.8682]]\n"
     ]
    }
   ],
   "source": [
    "for k in range(2,n):\n",
    "    print('Spalte '+str(k+1))\n",
    "    y = A1[k:,k]\n",
    "    w = y.T + mysign(y[0]) * np.linalg.norm(y) * e(len(y))\n",
    "    Qk = HouseholderTransformation(w)\n",
    "    A1[k:,k:] = Qk@A1[k:,k:]\n",
    "    print(np.round(A1,4))\n",
    "\n",
    "R = A1[:n,:n]\n",
    "print(np.round(R,4))"
   ]
  },
  {
   "cell_type": "markdown",
   "metadata": {},
   "source": [
    "### Q, R berechnen"
   ]
  },
  {
   "cell_type": "markdown",
   "metadata": {},
   "source": [
    "- Berechnen sie abschliessend $Q,R$ so, dass $Q\\cdot R = A$ gilt.\n",
    "- Vergleichen Sie Ihr Resultat mit der Funktion von NumPy."
   ]
  },
  {
   "cell_type": "code",
   "execution_count": 62,
   "metadata": {},
   "outputs": [],
   "source": [
    "Q,R = np.linalg.qr(A)"
   ]
  },
  {
   "cell_type": "code",
   "execution_count": 63,
   "metadata": {},
   "outputs": [
    {
     "data": {
      "text/plain": [
       "(10, 5)"
      ]
     },
     "execution_count": 63,
     "metadata": {},
     "output_type": "execute_result"
    }
   ],
   "source": [
    "Q.shape"
   ]
  },
  {
   "cell_type": "code",
   "execution_count": 64,
   "metadata": {},
   "outputs": [
    {
     "data": {
      "text/plain": [
       "(5, 5)"
      ]
     },
     "execution_count": 64,
     "metadata": {},
     "output_type": "execute_result"
    }
   ],
   "source": [
    "R.shape"
   ]
  },
  {
   "cell_type": "markdown",
   "metadata": {},
   "source": [
    "Frage: Warum reicht diese reduzierte $Q$ und $R$ Matrix?"
   ]
  }
 ],
 "metadata": {
  "kernelspec": {
   "display_name": "Python 3 (ipykernel)",
   "language": "python",
   "name": "python3"
  },
  "language_info": {
   "codemirror_mode": {
    "name": "ipython",
    "version": 3
   },
   "file_extension": ".py",
   "mimetype": "text/x-python",
   "name": "python",
   "nbconvert_exporter": "python",
   "pygments_lexer": "ipython3",
<<<<<<< HEAD
   "version": "3.9.12"
=======
   "version": "3.10.9"
>>>>>>> Praktikum5
  },
  "nbsphinx": {
   "execute": "never"
  }
 },
 "nbformat": 4,
 "nbformat_minor": 4
}
