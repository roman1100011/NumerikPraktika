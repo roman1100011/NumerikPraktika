{
 "cells": [
  {
   "cell_type": "markdown",
   "id": "4ac4dcb3",
   "metadata": {},
   "source": [
    "# 1 Lineare Ausgleichsrechnung mit Hilfe der QR-Zerlegung\n",
    "\n",
    "## Einführende Fragen\n",
    "\n",
    "1. Wie lautet 𝑄,𝑅 so, dass 𝐴=𝑄·𝑅 gilt?\n",
    "\n",
    "    𝑄 ist orthogonal, und 𝑅 eine reguläre obere rechte Dreiecksmatrix\n",
    "    $$ Rx = Q^T b $$\n",
    "    \n",
    "    \n",
    "2. Welche Dimension hat 𝑄, 𝑅?\n",
    "\n",
    "    𝑄, 𝑅 weisen folgende Dimensionen auf:\n",
    "    $$ Q_{red} \\in \\mathbb{R}^{n \\times n} , R \\in \\mathbb{R}^{n \\times n} $$\n",
    "    \n",
    "    \n",
    "    \n",
    "3. Welche Dimension hat das reduzierte Problem?\n",
    "\n",
    "    Das reduzierte Problem hat die Dimensionen:\n",
    "    $$ Q_{red} \\in \\mathbb{R}^{m \\times n} , R \\in \\mathbb{R}^{n \\times n} $$\n",
    "    \n",
    "    \n",
    "4. Warum reichen die reduzierten Matrizen 𝑄, 𝑅?\n",
    "\n",
    "    Die reduzierten Matrizen reichen, weil die Nullzeilen weggelassen werden können."
   ]
  },
  {
   "cell_type": "markdown",
   "id": "5dd6dbaf",
   "metadata": {},
   "source": [
    "## Implementation der QR-Zerlegung:\n",
    "Mithilfe jupyter notebook zur Householder Transformation."
   ]
  },
  {
   "cell_type": "code",
   "execution_count": 58,
   "id": "589dac2f",
   "metadata": {},
   "outputs": [
    {
     "name": "stdout",
     "output_type": "stream",
     "text": [
      "[[ 15.8114  11.8269  -6.5143  -0.6325  -1.2649]\n",
      " [ -0.      15.5603   1.4167  -1.8329   3.0822]\n",
      " [ -0.      -0.     -17.9877   2.92     0.9232]\n",
      " [ -0.       0.       0.      15.6753  -1.5851]\n",
      " [ -0.       0.       0.      -0.      16.8682]\n",
      " [ -0.       0.      -0.       0.      -0.    ]\n",
      " [ -0.       0.      -0.      -0.       0.    ]\n",
      " [ -0.       0.       0.      -0.       0.    ]\n",
      " [  0.       0.      -0.      -0.       0.    ]\n",
      " [  0.       0.       0.      -0.       0.    ]]\n",
      "[[ 15.8114  11.8269  -6.5143  -0.6325  -1.2649]\n",
      " [ -0.      15.5603   1.4167  -1.8329   3.0822]\n",
      " [ -0.      -0.     -17.9877   2.92     0.9232]\n",
      " [ -0.       0.       0.      15.6753  -1.5851]\n",
      " [ -0.       0.       0.      -0.      16.8682]]\n"
     ]
    }
   ],
   "source": [
    "import numpy as np\n",
    "from numpy.linalg import norm\n",
    "\n",
    "# Definition des Kronecker Deltas\n",
    "def mykron(x):\n",
    "    res = np.zeros([len(x),len(x)], dtype=float) # Matrix initialisieren\n",
    "    for i in range(len(x)):\n",
    "        res[:,i] = x * x[i]\n",
    "    return(res)\n",
    "\n",
    "# Definition der Householder Transformation\n",
    "def HouseholderTransformation(w):    \n",
    "    res=np.eye(len(w)) - (2* mykron(w)/(np.dot(w,w)))\n",
    "    return(res)\n",
    "\n",
    "# Neudefinition der sign funktion, weil numpy sign liefert 0 für 0\n",
    "def mysign(x): \n",
    "    if x >= 0:\n",
    "        return 1\n",
    "    else:\n",
    "        return -1\n",
    "\n",
    "# Definition der Hyperebene  𝑤 = 𝑦 + sign(𝑦1)‖𝑦‖2𝑒1\n",
    "def hyp(A,y):\n",
    "    y=A[k:,k]\n",
    "    return y+mysign(y[0])*np.linalg.norm(y)*e(len(y))\n",
    "\n",
    "# Definiton des Einheitsvektors\n",
    "def e(n):\n",
    "    return np.array([1]+[0 for k in range(n-1)])\n",
    "\n",
    "# Beispielmatrix\n",
    "A = np.array([[-1,  7, -8, -9,  6],\n",
    "       [-6, -8,  0,  3,  8],\n",
    "       [-4, -2,  8,  0, -2],\n",
    "       [-1, -9,  4, -8,  2],\n",
    "       [-3, -5, -5,  7, -4],\n",
    "       [-7, -4,  7, -1,  5],\n",
    "       [-9, -7,  6, -5, -8],\n",
    "       [-4, -3, -5,  3, -6],\n",
    "       [ 5,  7,  5, -4, -5],\n",
    "       [ 4, -6, -8, -2, -5]],dtype=float)\n",
    "m,n = A.shape\n",
    "\n",
    "# Householder Transformation an der Matrix A ausführen\n",
    "A1 = A\n",
    "for k in range(0,n):\n",
    "    w = hyp(A1,k)\n",
    "    Qk = HouseholderTransformation(w)\n",
    "    A1[k:,k:] = Qk@A1[k:,k:]\n",
    "\n",
    "# Matrix A1 nach der Householder Transformation ausgeben\n",
    "print(np.round(A1,4))\n",
    "\n",
    "# Matrix R aus A1 rausholen\n",
    "R = A1\n",
    "for i in range(n,m):\n",
    "    R = np.delete(R,(n), axis = 0)    \n",
    "print(np.round(R,4))\n",
    "\n",
    "\n",
    "# Matrix Q berechnen gemäss Formel aus Skript:  Q = (Qn · ... · Q1)T = QT1 · ... · QTn\n"
   ]
  },
  {
   "cell_type": "code",
   "execution_count": 57,
   "id": "c9f5517b",
   "metadata": {},
   "outputs": [],
   "source": [
    "def backwardSubs(LR, y):\n",
    "    n = len(y)\n",
    "    x = y/np.diagonal(LR)\n",
    "    for i in range(n-1, -1, -1):\n",
    "        x[i] = (y[i] - np.sum(LR[i,(i+1):]*x[(i+1):]))/LR[i,i]\n",
    "    return x\n",
    "\n",
    "\n",
    "    n = len(y)\n",
    "    x = y/np.diagonal(LR)\n",
    "    for i in range(n-1, -1, -1):\n",
    "        x[i] = (y[i] - np.sum(LR[i,(i+1):]*x[(i+1):]))/LR[i,i]\n",
    "    return x"
   ]
  },
  {
   "cell_type": "code",
   "execution_count": null,
   "id": "46832da5",
   "metadata": {},
   "outputs": [],
   "source": []
  },
  {
   "cell_type": "code",
   "execution_count": null,
   "id": "90f90406",
   "metadata": {},
   "outputs": [],
   "source": []
  }
 ],
 "metadata": {
  "kernelspec": {
   "display_name": "Python 3 (ipykernel)",
   "language": "python",
   "name": "python3"
  },
  "language_info": {
   "codemirror_mode": {
    "name": "ipython",
    "version": 3
   },
   "file_extension": ".py",
   "mimetype": "text/x-python",
   "name": "python",
   "nbconvert_exporter": "python",
   "pygments_lexer": "ipython3",
   "version": "3.9.12"
  }
 },
 "nbformat": 4,
 "nbformat_minor": 5
}
