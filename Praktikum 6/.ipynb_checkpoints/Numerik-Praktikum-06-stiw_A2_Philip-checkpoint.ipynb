{
 "cells": [
  {
   "cell_type": "markdown",
   "id": "e17a65d4",
   "metadata": {},
   "source": [
    "# Aufgabe 2\n",
    "Algorithmus zur Funktionsbestimmung\n",
    "\n",
    "$(\\theta_1,\\theta_2)^t = \\vec{g}(p_x,p_y)$"
   ]
  },
  {
   "cell_type": "code",
   "execution_count": 12,
   "id": "807de52b",
   "metadata": {},
   "outputs": [
    {
     "ename": "SyntaxError",
     "evalue": "invalid syntax (1579087898.py, line 30)",
     "output_type": "error",
     "traceback": [
      "\u001b[0;36m  Input \u001b[0;32mIn [12]\u001b[0;36m\u001b[0m\n\u001b[0;31m    dfdt1 = derivative(lambda thetax[0]: f(thetax), thetax[0], dx=1e-6)\u001b[0m\n\u001b[0m                                    ^\u001b[0m\n\u001b[0;31mSyntaxError\u001b[0m\u001b[0;31m:\u001b[0m invalid syntax\n"
     ]
    }
   ],
   "source": [
    "import numpy as np\n",
    "import math as m\n",
    "from scipy.misc import derivative\n",
    "\n",
    "# Anfangsparameter und Randbedingungen definieren\n",
    "theta0 = np.array([0., 0.]) # Anfangsposition des Armes\n",
    "L = np.array([2., 1.])\n",
    "P = np.array([1.5, 1.5])  # Zielpunkt\n",
    "\n",
    "# Ortsfunktion definieren\n",
    "def f(theta):\n",
    "    L1 = L[0]\n",
    "    L2 = L[1]\n",
    "    px = L1 * m.cos(theta[0]) + L2 * m.cos(theta[0]+theta[1])\n",
    "    py = L1 * m.sin(theta[0]) + L2 * m.sin(theta[0]+theta[1])\n",
    "    P = np.array([px, py])\n",
    "    return P\n",
    "\n",
    "print(f(theta0))  # Ausgabe des Armstartpunktes\n",
    "\n",
    "# Prinzip des Newton Verfahrens:\n",
    "# f(theta)-P = 0\n",
    "\n",
    "\n",
    "t1=theta0[0]\n",
    "t2=theta0[1]\n",
    "thetax=theta0\n",
    "for i in range(100):\n",
    "    pfx, pfy = f(thetax), f(thetax)\n",
    "    dfdt1 = derivative(lambda thetax[0]: f(thetax), thetax[0], dx=1e-6)\n",
    "    dfdt2 = derivative(lambda thetax[1]: f(thetax), thetax[1], dx=1e-6)\n",
    "    J = np.array([[dfdt1, dfdt2], [dfdt1, dfdt2]])\n",
    "    delta = np.linalg.solve(J, np.array([-pfx, -pfy]))\n",
    "    thetax += delta\n",
    "\n",
    "    \n",
    "print(f\"Nullstelle gefunden bei theta1={t1:.6f}, theta2={t2:.6f}\")\n",
    "\n",
    "\n",
    "\"\"\"\n",
    "# Implementation aus chatgpt\n",
    "def newton_method_2d(f, P, tol=1e-6, maxiter=100):\n",
    "    \n",
    "    x, y = P[0], P[1]\n",
    "    for i in range(maxiter):\n",
    "        fx, fy = f(x, y), f(x, y)\n",
    "        dfdx = derivative(lambda x: f(x, y), x, dx=1e-6)\n",
    "        dfdy = derivative(lambda y: f(x, y), y, dx=1e-6)\n",
    "        J = np.array([[dfdx, dfdy], [dfdx, dfdy]])\n",
    "        delta = np.linalg.solve(J, np.array([-fx, -fy]))\n",
    "        x += delta[0]\n",
    "        y += delta[1]\n",
    "        if np.sqrt(delta[0]**2 + delta[1]**2) < tol:\n",
    "            return x, y\n",
    "    raise ValueError(\"Das Newton-Verfahren hat keine Konvergenz erreicht.\")\n",
    "    \n",
    "    \n",
    "x, y = newton_method_2d(f,P)\n",
    "\n",
    "print(f\"Nullstelle gefunden bei x={x:.6f}, y={y:.6f}\")\n",
    "\"\"\""
   ]
  },
  {
   "cell_type": "code",
   "execution_count": null,
   "id": "f5d208ef",
   "metadata": {},
   "outputs": [],
   "source": []
  }
 ],
 "metadata": {
  "kernelspec": {
   "display_name": "Python 3 (ipykernel)",
   "language": "python",
   "name": "python3"
  },
  "language_info": {
   "codemirror_mode": {
    "name": "ipython",
    "version": 3
   },
   "file_extension": ".py",
   "mimetype": "text/x-python",
   "name": "python",
   "nbconvert_exporter": "python",
   "pygments_lexer": "ipython3",
   "version": "3.9.12"
  }
 },
 "nbformat": 4,
 "nbformat_minor": 5
}
