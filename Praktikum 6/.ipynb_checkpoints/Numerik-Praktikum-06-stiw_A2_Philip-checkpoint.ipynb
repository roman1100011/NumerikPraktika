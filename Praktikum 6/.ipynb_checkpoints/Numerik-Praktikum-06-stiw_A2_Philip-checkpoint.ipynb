{
 "cells": [
  {
   "cell_type": "markdown",
   "id": "e17a65d4",
   "metadata": {},
   "source": [
    "# Aufgabe 2\n",
    "Algorithmus zur Funktionsbestimmung\n",
    "\n",
    "$(\\theta_1,\\theta_2)^t = \\vec{g}(p_x,p_y)$"
   ]
  },
  {
   "cell_type": "code",
   "execution_count": 16,
   "id": "807de52b",
   "metadata": {},
   "outputs": [
    {
     "ename": "NameError",
     "evalue": "name 'theta' is not defined",
     "output_type": "error",
     "traceback": [
      "\u001b[0;31m---------------------------------------------------------------------------\u001b[0m",
      "\u001b[0;31mNameError\u001b[0m                                 Traceback (most recent call last)",
      "Input \u001b[0;32mIn [16]\u001b[0m, in \u001b[0;36m<cell line: 19>\u001b[0;34m()\u001b[0m\n\u001b[1;32m     16\u001b[0m     P \u001b[38;5;241m=\u001b[39m np\u001b[38;5;241m.\u001b[39marray([px, py])\n\u001b[1;32m     17\u001b[0m     \u001b[38;5;28;01mreturn\u001b[39;00m P\n\u001b[0;32m---> 19\u001b[0m t1\u001b[38;5;241m=\u001b[39m\u001b[43mtheta\u001b[49m[\u001b[38;5;241m0\u001b[39m]\n\u001b[1;32m     20\u001b[0m t2\u001b[38;5;241m=\u001b[39mtheta[\u001b[38;5;241m1\u001b[39m]\n\u001b[1;32m     22\u001b[0m dfdx\u001b[38;5;241m=\u001b[39mderivative(f,t1)\n",
      "\u001b[0;31mNameError\u001b[0m: name 'theta' is not defined"
     ]
    }
   ],
   "source": [
    "import numpy as np\n",
    "import math as m\n",
    "from scipy.misc import derivative\n",
    "from sympy import Symbol\n",
    "\n",
    "# Anfangsparameter und Randbedingungen definieren\n",
    "theta0 = np.array([0., 0.]) # Anfangsposition des Armes\n",
    "L = np.array([2., 1.])\n",
    "P = np.array([1.5, 1.5])  # Zielpunkt\n",
    "\n",
    "theta=\n",
    "\n",
    "# Ortsfunktion definieren\n",
    "def f(theta):\n",
    "    L1 = L[0]\n",
    "    L2 = L[1]\n",
    "    px = L1 * m.cos(theta[0]) + L2 * m.cos(theta[0]+theta[1])\n",
    "    py = L1 * m.sin(theta[0]) + L2 * m.sin(theta[0]+theta[1])\n",
    "    P = np.array([px, py])\n",
    "    return P\n",
    "\n",
    "\n",
    "dfdx=derivative(f,theta[0])\n",
    "    \n",
    "dfdy=derivative(f,theta[1])\n",
    "    \n",
    "\n",
    "print(f(theta0))  # Ausgabe des Armstartpunktes\n",
    "\n",
    "# Prinzip des Newton Verfahrens:\n",
    "# f(theta)-P = 0\n",
    "\n",
    "\n",
    "t1=theta0[0]\n",
    "t2=theta0[1]\n",
    "\n",
    "\n",
    "import numpy as np\n",
    "\n",
    "def newton_2d(f, dfdx, dfdy, theta, tol=1e-6, maxiter=100):\n",
    "    \"\"\"\n",
    "    Finds a root of a 2D function using the Newton method.\n",
    "\n",
    "    Parameters:\n",
    "    f (callable): The 2D function to find a root of.\n",
    "    dfdx (callable): The partial derivative of f with respect to x.\n",
    "    dfdy (callable): The partial derivative of f with respect to y.\n",
    "    x0 (float): The initial guess for the x-coordinate of the root.\n",
    "    y0 (float): The initial guess for the y-coordinate of the root.\n",
    "    tol (float): The tolerance for the convergence of the method. Defaults to 1e-6.\n",
    "    maxiter (int): The maximum number of iterations to perform. Defaults to 100.\n",
    "\n",
    "    Returns:\n",
    "    tuple: A tuple (x, y) representing the coordinates of the root.\n",
    "    \"\"\"\n",
    "\n",
    "    for i in range(maxiter):\n",
    "        fx = f(theta)\n",
    "        dfdx_val = dfdx(theta)\n",
    "        dfdy_val = dfdy(theta)\n",
    "        J = np.array([[dfdx_val, dfdy_val]])\n",
    "        Jinv = np.linalg.inv(J)\n",
    "        dx, dy = -np.dot(Jinv, fx)\n",
    "        theta[0] += dx\n",
    "        theta[1] += dy\n",
    "        if np.sqrt(dx*dx + dy*dy) < tol:\n",
    "            return (theta)\n",
    "\n",
    "    raise ValueError(\"The Newton method did not converge within the maximum number of iterations.\")\n",
    "    \n",
    "result=newton_2d(f, dfdx, dfdy, theta0)\n",
    "\n",
    "print(result)\n"
   ]
  },
  {
   "cell_type": "code",
   "execution_count": null,
   "id": "f5d208ef",
   "metadata": {},
   "outputs": [],
   "source": []
  }
 ],
 "metadata": {
  "kernelspec": {
   "display_name": "Python 3 (ipykernel)",
   "language": "python",
   "name": "python3"
  },
  "language_info": {
   "codemirror_mode": {
    "name": "ipython",
    "version": 3
   },
   "file_extension": ".py",
   "mimetype": "text/x-python",
   "name": "python",
   "nbconvert_exporter": "python",
   "pygments_lexer": "ipython3",
   "version": "3.9.12"
  }
 },
 "nbformat": 4,
 "nbformat_minor": 5
}
