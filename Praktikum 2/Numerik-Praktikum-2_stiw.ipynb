{
 "cells": [
  {
   "cell_type": "markdown",
   "metadata": {},
   "source": [
    "# LU-Zerlegung: Vor- / Rückwärtseinsetzen"
   ]
  },
  {
   "cell_type": "markdown",
   "metadata": {},
   "source": [
    "## Ziel"
   ]
  },
  {
   "cell_type": "markdown",
   "metadata": {},
   "source": [
    "In dieser Lektion implementieren wir das Lösungsverfahren $A x = b$ unter der Annahme, dass eine $LR$-Zerlegung $A = L R$ der Matrix $A$ bereits gegeben ist.\n",
    " \n",
    " **Abgabe**: Sie geben als Praktikumsbericht ihren Code in Matlab oder Python (oder C, oder ...) ab. Für die Bewertung ist ausschlaggebend, dass Sie sich ersichtlich mit der Aufgabe auseinandergesetzt haben, unabhängig davon, ob der Code am Ende läuft oder nicht. Wir werden allerdings im nachfolgenden Praktikum darauf aufbauen."
   ]
  },
  {
   "cell_type": "markdown",
   "metadata": {},
   "source": [
    "## Theorie"
   ]
  },
  {
   "cell_type": "markdown",
   "metadata": {},
   "source": [
    "Lineare Gleichungssysteme $Ax = b$ für $A \\in \\mathbb{R}^{n \\times n}, b \\in \\mathbb{R}^n$ können durch Vorwärts- bzw. Rückwärtseinsetzen gelöst werden, wenn die Matrix $A=R$ eine obere bzw. $A=L$ eine untere Dreiecksmatrix ist. Sie implementieren und testen in diesem Praktikum die beiden Algorithmen. Das *Vorwärtseinsetzen* ist Algorithmus 1 im Skript. Rückwärtseinsetzen funktioniert analog.\n",
    "\n",
    "Je nach Kontext kann zudem eine effiziente Implementierung entscheidend sein, sowohl memory-efficient (kein unnötiges Belegen von Speicherplatz) wie auch time-efficient. Im einzelnen bedeutet das\n",
    "\n",
    " * Die LU-Zerlegung wird in-place ausgeführt, wobei die ursprüngliche Matrix $A$ überschrieben wird. Die resultierende Matrix LR enthält im Dreieck links unten die Matrix $L$, ohne die Diagonalelemente und im Dreieck oben rechts die Matrix R (inklusive Diagonale). Dies enspricht der Vorgehensweise im Unterricht.\n",
    " * Es werden keine Zeilenvertauschungen explizit durchgeführt, stattdessen wird mit einem Indexvektor gearbeitet. \n",
    " \n"
   ]
  },
  {
   "cell_type": "markdown",
   "metadata": {},
   "source": [
    "## Aufgaben"
   ]
  },
  {
   "cell_type": "markdown",
   "metadata": {},
   "source": [
    "### Aufgabe 1 "
   ]
  },
  {
   "cell_type": "markdown",
   "metadata": {},
   "source": [
    "1. Beschreiben Sie das Vorwärtseinsetzen als Pseudocode, analog zu Algorithmus $1$ im Skript.\n",
    "2. Beschreiben Sie in Pseudocode das Vor- und Rückwärtseinsetzen, wenn die LU-Zerlegung in *einer* Matrix $LR$ gegeben ist. Beachten Sie, dass der Vektor $x$ beim Rückwärtseinsetzen überschrieben werden kann. Drücken Sie die Operationen soweit möglich als Skalarprodukte aus.\n",
    "3. Beschreiben Sie die in-place LU-Zerlegung ohne Zeilentausch als Pseudocode. "
   ]
  },
  {
   "cell_type": "markdown",
   "metadata": {},
   "source": [
    "**1. Pseudocode Vorwärtseinsetzen:** \n",
    "\n",
    "*Eingabe:* Eine obere Dreiecksmatrix A und ein Vektor b\n",
    "\n",
    "n = Anzahl der Zeilen in der Matrix A\n",
    "\n",
    "x = Ein n-dimensionaler Nullvektor\n",
    "\n",
    "// Beginne mit der letzten Zeile der Matrix A\n",
    "\n",
    "for i = n-1 down to 0:\n",
    "\n",
    "    sum = 0\n",
    "    \n",
    "    // Summiere die bereits bekannten x-Werte und die Werte in A für diese Zeile\n",
    "    \n",
    "    for j = i+1 to n-1:\n",
    "    \n",
    "        sum += A[i,j] * x[j]\n",
    "        \n",
    "    // Berechne das neue x für diese Zeile\n",
    "    \n",
    "    x[i] = (b[i] - sum) / A[i,i]\n",
    "\n",
    "// Gebe den Vektor x zurück\n",
    "\n",
    "return x\n",
    "\n",
    "*Ausgabe:* Eine Lösungsmenge x für das Gleichungssystem Ax = b\n",
    "\n",
    "\n",
    "\n",
    "**2. Vorwärtseinsetzen:**\n",
    "\n",
    "Für j = n, n − 1, . . . , 1 berechne\n",
    "$$y_j = \\frac{ b_j - \\sum\\limits^{j-1}_{k=1} l_{j,k} y_k}{ l_{j,j} }$$\n",
    "\n",
    "**Rückwärtseinsetzen:**\n",
    "\n",
    "Für j = n, n − 1, . . . , 1 berechne\n",
    "$$x_j = \\frac{ y_j - \\sum\\limits^{n}_{k=j+1} r_{j,k} x_k}{ r_{j,j} }$$\n",
    "\n",
    "**3. in-place LU-Zerlegung ohne Zeilenvertauschen**\n",
    "\n",
    "*Eingabe:* Matrix A\n",
    "\n",
    "     // n-1 Iterationsschritte\n",
    "     \n",
    "   for i := 1 to n-1\n",
    "   \n",
    "     // Zeilen der Restmatrix werden durchlaufen \n",
    "     \n",
    "     for k := i+1 to n\n",
    "     \n",
    "       // Berechnung von L\n",
    "       \n",
    "       A(k,i) := A(k,i) / A(i,i) // Achtung: vorher Prüfung auf Nullwerte notwendig\n",
    "       \n",
    "       // Spalten der Restmatrix werden durchlaufen\n",
    "       \n",
    "       for j := i+1 to n\n",
    "       \n",
    "         // Berechnung von R\n",
    "         \n",
    "         A(k,j) := A(k,j) - A(k,i) * A(i,j)\n",
    "         \n",
    " *Ausgabe:* Matrix A (in modifizierter Form)"
   ]
  },
  {
   "cell_type": "markdown",
   "metadata": {},
   "source": [
    "### Aufgabe 2"
   ]
  },
  {
   "cell_type": "markdown",
   "metadata": {},
   "source": [
    "Implementieren Sie eine Funktion **fbSubs** für das Vorwärts- und Rückwärtseinsetzen. Versuchen Sie, so wenig Schleifen wie möglich zu verwenden!"
   ]
  },
  {
   "cell_type": "code",
   "execution_count": 1,
   "metadata": {},
   "outputs": [],
   "source": [
    "import numpy as np\n",
    "\n",
    "\"\"\"\n",
    "forwardSubs: Vorwärtseinsetzen\n",
    "in: \n",
    " - Matrix LR, die das Ergebnis einer LU-Zerlegung enthält\n",
    " - Vektor b: rechte Seite des LGS\n",
    "out: Lösung x des LGS\n",
    "\"\"\"  \n",
    "def forwardSubs(LR, b):\n",
    "    n = len(b)\n",
    "    x = np.zeros(n)\n",
    "    for i in range(n):\n",
    "        x[i] = b[i]\n",
    "        for j in range(i):\n",
    "            x[i] -= LR[i, j] * x[j]\n",
    "        x[i] /= LR[i, i]\n",
    "    return x\n",
    "\n",
    "\"\"\"\n",
    "backwardSubs: Rückwärtseinsetzen\n",
    "in: \n",
    " - Matrix LR, die das Ergebnis einer LU-Zerlegung enthält\n",
    " - Vektor b: rechte Seite des LGS\n",
    "out: Lösung x des LGS\n",
    "\"\"\"  \n",
    "def backwardSubs(LR, b):\n",
    "    n = len(b)\n",
    "    x = np.zeros(n)\n",
    "    for i in range(n-1, -1, -1):\n",
    "        x[i] = b[i]\n",
    "        for j in range(i+1, n):\n",
    "            x[i] -= LR[i, j] * x[j]\n",
    "        x[i] /= LR[i, i]\n",
    "    return x\n",
    "\n",
    "\"\"\"\n",
    "fbSubs: Löst das Gleichungssystem LR*x=b\n",
    "in: \n",
    " - Matrix LR, die das Ergebnis einer LU-Zerlegung enthält\n",
    " - Vektor b: rechte Seite des LGS\n",
    "out: Lösung x des LGS\n",
    "\"\"\"  \n",
    "def fbSubs(LR, b):\n",
    "    y = forwardSubs(LR, b)\n",
    "    x = backwardSubs(LR, y)\n",
    "    return x\n"
   ]
  },
  {
   "cell_type": "markdown",
   "metadata": {},
   "source": [
    "### Aufgabe 3"
   ]
  },
  {
   "cell_type": "markdown",
   "metadata": {},
   "source": [
    "Testen Sie **fbSubs** zuerst mit dem Zahlenbeispiel aus dem Unterricht (wo Sie alles schrittweise nachvollziehen können) und dann mit dem folgenden Testcode, den Sie auch variieren dürfen, bis Sie sicher sind, dass alles wie gewünscht funktioniert. Sie müssen sich im nachfolgenden Praktikum auf **fbSubs** verlassen können!"
   ]
  },
  {
   "cell_type": "code",
   "execution_count": null,
   "metadata": {},
   "outputs": [],
   "source": [
    "#Test LR\n",
    "n = 7 # Dimension der Koeffizientenmatrix\n",
    "for k in range(1000):                      # Testläufe\n",
    "    LR = np.array( np.random.rand(n,n) )   # zufällige Matrix LR \n",
    "    rhs = np.array(np.random.rand(n))    # zufällige rechte Seite des LGS\n",
    "    x = fbSubs(LR, rhs)   # Aufruf der eigenen Funktion\n",
    "    \n",
    "    L,R = np.tril(LR,-1)+np.identity(n), np.triu(LR) # L und R extrahieren\n",
    "    \n",
    "    assert( np.linalg.norm(rhs - L@R@x) < 1e-10)     # Test, mit numerischer Toleranz"
   ]
  },
  {
   "cell_type": "markdown",
   "metadata": {},
   "source": [
    "# Implementierung Gauss-Algorithmus mit Spaltenpivotisierung"
   ]
  },
  {
   "cell_type": "markdown",
   "metadata": {},
   "source": [
    "## Ziel"
   ]
  },
  {
   "cell_type": "markdown",
   "metadata": {},
   "source": [
    " In diesem Praktikum implementieren wir das Lösungsverfahren $A x = b$ inklusive $LU$-Zerlegung $P A = L R$ der Matrix $A$ mit Spaltenpivotisierung.\n",
    " \n",
    " **Abgabe**: Sie geben als Praktikumsbericht ihren Code in Matlab oder Python (oder C, oder ...) ab. Für die Bewertung ist ausschlaggebend, dass Sie sich ersichtlich mit der Aufgabe auseinandergesetzt haben, unabhängig davon, ob der Code am Ende läuft oder nicht. Sie können den Code direkt in das notebook schreiben oder in einer Entwicklungsumgebung Ihrer Wahl. "
   ]
  },
  {
   "cell_type": "markdown",
   "metadata": {},
   "source": [
    "## Theorie"
   ]
  },
  {
   "cell_type": "markdown",
   "metadata": {},
   "source": [
    "Ein lineares Gleichungssystem $Ax = b$ kann gelöst werden, indem die Matrix $A$ in eine untere bzw. obere Dreiecksmatrix zerlegt wird: $A = L R$, falls keine Zeilenvertauschungen notwendig sind bzw. $P A = L R$ mit der zusätzlichen *Permutationsmatrix* $P$, falls Zeilen vertauscht werden. \n",
    "\n",
    "Diesen Prozess nennt man auf Deutsch $LR$-Zerlegung (englisch: $LU$-factorization, für *lower, upper*). Der Algorithmus ist eine kleine Erweiterung des Gauss-Algorithmus (Algorithmus 2 im Skript). $R$ ist die gewohnte Zeilenstufenform, in $l_{ij}$ merken wir uns zusätzlich, mit welchem Faktor Zeile $i$ von Zeile $j$ subtrahiert wurde. Die Beschreibung des Vorgehens entnehmen Sie dem Unterricht.\n",
    "\n",
    "Sind Zeilenvertauschungen notwendig (oder auf Grund einer Pivotstrategie erwünscht), so führt die Permutationsmatrix $P$ Buch über diese Vertauschungen: alle Zeilenvertauschungen in $A$ werden auch in der Matrix $P$ übernommen.\n",
    "\n",
    "Je nach Kontext kann zudem eine effiziente Implementierung entscheidend sein, sowohl memory-efficient (kein unnötiges Belegen von Speicherplatz) wie auch time-efficient. Im einzelnen bedeutet das\n",
    "\n",
    " * Die LU-Zerlegung wird *in-place* ausgeführt, wobei die ursprüngliche Matrix $A$ überschrieben wird. Die resultierende Matrix LR enthält im Dreieck links unten die Matrix $L$, ohne die Diagonalelemente und im Dreieck oben rechts die Matrix R (inklusive Diagonale). Dies enspricht der Vorgehensweise im Unterricht.\n",
    " * Zeilenvertauschungen können formal durch eine Permutationsmatrix $P$ erfasst werden. Es gilt dann $L R = P A$ und man hat wegen $A x = b$ <=> $P A x = P b$ die beiden LGS \n",
    " \n",
    "     $L \\cdot y = P \\cdot b$    und    $R \\cdot x = y$\n",
    "\n",
    "zu lösen. Um die Matrixmultiplikation mit der Permutationsmatrix zu sparen  arbeitet man stattdessen mit einem *Indexvektor* $i$, der zu Beginn auf $i = [0, 1, ..., n-1]$ initialisiert wird. Werden Zeilen in $A$ getauscht, so tauscht man auch die entsprechenden Einträge in $i$ und löst am Ende die beiden LGS\n",
    "\n",
    "$L \\cdot y = b[i]$     und    $R \\cdot x = y$\n",
    "\n",
    "Ziel dieses Praktikums ist eine Funktion **linsolve**, die LGS $A \\cdot x = b$ mit Hilfe einer *in-place* *LU-Zerlegung* mit Spaltenpivotisierung löst. Wir verwenden die Ergebnisse des letzten Prakikums:"
   ]
  },
  {
   "cell_type": "markdown",
   "metadata": {},
   "source": [
    "## Aufgaben"
   ]
  },
  {
   "cell_type": "markdown",
   "metadata": {},
   "source": [
    "### Aufgabe 1"
   ]
  },
  {
   "cell_type": "markdown",
   "metadata": {},
   "source": [
    "Implementieren Sie die *LU-Zerlegung*: die Funktion **LU** nimmt als Input eine quadratische Matrix $A$ und gibt Dreiecksmatrizen $L, R$ zurück, so dass $L R = A$ gilt. Im ersten Schritt lassen wir die Pivotisierung weg. Der Indexvektor **idx** bleibt dann unverändert."
   ]
  },
  {
   "cell_type": "code",
   "execution_count": null,
   "metadata": {},
   "outputs": [],
   "source": [
    "# LU-Zerlegung der quadratischen Matrix A    \n",
    "# in: quadratische Matrix A\n",
    "#out: \n",
    "# - A wird überschrieben, unteres Dreieck = L (ohne Diagonale), oberes Dreieck = R\n",
    "# - idx: Indexvektor der Zeilenvertauschungen\n",
    "def LU(A):\n",
    "    m = A.shape[0]\n",
    "    idx = np.array(range(m))    \n",
    "    # code\n",
    "    return A, idx"
   ]
  },
  {
   "cell_type": "markdown",
   "metadata": {},
   "source": [
    "Testen Sie **LU** mit zufällig erzeugten Matrizen.  "
   ]
  },
  {
   "cell_type": "code",
   "execution_count": null,
   "metadata": {},
   "outputs": [],
   "source": [
    "n = 7\n",
    "#test LU\n",
    "for k in range(1000):\n",
    "    A = np.array( np.random.rand(n,n) )   # zufällige Matrix A erzeugen\n",
    "    LR, idx = LU(A.copy())                  # LU-Zerlegung von A   \n",
    "    L,R = np.tril(LR,-1)+np.identity(n), np.triu(LR)  # Matrizen L, R extrahieren  \n",
    "    assert( np.linalg.norm(L@R - A[idx]) < 1e-8)"
   ]
  },
  {
   "cell_type": "markdown",
   "metadata": {},
   "source": [
    "### Aufgabe 2"
   ]
  },
  {
   "cell_type": "markdown",
   "metadata": {},
   "source": [
    "Erstellen Sie eine Funktion **linsolve(A, b)**, die für eine Matrix $A$ und einen Vektor $b$ das LGS $A x = b$ mit Hilfe der *LR-Zerlegung* und dem Vorwärts- und Rückwärtseinsetzen löst."
   ]
  },
  {
   "cell_type": "code",
   "execution_count": null,
   "metadata": {},
   "outputs": [],
   "source": [
    "# lineares Gleichungssystem A*x = b lösen.\n",
    "def linsolve(A, b):\n",
    "    # code"
   ]
  },
  {
   "cell_type": "markdown",
   "metadata": {},
   "source": [
    "Testen Sie **linsolve** mit zufällig erzeugten Matrizen"
   ]
  },
  {
   "cell_type": "code",
   "execution_count": null,
   "metadata": {},
   "outputs": [],
   "source": [
    "#test linsolve\n",
    "for k in range(1000):\n",
    "    A = np.random.rand(n,n)\n",
    "    rhs = np.random.rand(n)\n",
    "    x = linsolve(A, rhs)   \n",
    "    assert( lin.norm(rhs - A @ x) < 1e-10)"
   ]
  },
  {
   "cell_type": "markdown",
   "metadata": {},
   "source": [
    "Mit der folgenden Funktion *rndCond(n, cond)* können Sie zufällige $n \\times n$ Matrizen mit vorgegebener Konditionszahl *cond* erzeugen. "
   ]
  },
  {
   "cell_type": "code",
   "execution_count": null,
   "metadata": {},
   "outputs": [],
   "source": [
    "import numpy.linalg as lin\n",
    "import numpy.random as rnd\n",
    "\n",
    "# random orthogonal matrix\n",
    "def rndOrtho(n):\n",
    "    S = rnd.rand(n,n)\n",
    "    S = S - S.T\n",
    "    O = lin.solve(S - np.identity(n), S + np.identity(n))\n",
    "    return O\n",
    "\n",
    "# random matrix with specified condition number\n",
    "def rndCond(n, cond):    \n",
    "    d = np.logspace(-np.log10(cond)/2, np.log10(cond)/2,n);\n",
    "    A = np.diag(d)\n",
    "    U,V = rndOrtho(n), rndOrtho(n)\n",
    "    return U@A@V.T"
   ]
  },
  {
   "cell_type": "markdown",
   "metadata": {},
   "source": [
    "Verwenden Sie diese, um Ihre Implementation von *linsolve* zu testen. Berechnen Sie den relativen Fehler $\\frac{|\\Delta_x|}{|x|}$ und vergleichen Sie mit dem Ergebnis von *linsolve* aus der Bibliothek *numpy.linalg*. "
   ]
  },
  {
   "cell_type": "code",
   "execution_count": null,
   "metadata": {},
   "outputs": [],
   "source": [
    "for k in range(N):\n",
    "    A = rndCond(n, 1e14)\n",
    "    # code"
   ]
  },
  {
   "cell_type": "markdown",
   "metadata": {},
   "source": [
    "### Aufgabe 3"
   ]
  },
  {
   "cell_type": "markdown",
   "metadata": {},
   "source": [
    "Implementieren Sie die Spaltenpivotisierung und wiederholen Sie die Testläufe aus Aufgabe 2"
   ]
  }
 ],
 "metadata": {
  "kernelspec": {
   "display_name": "Python 3 (ipykernel)",
   "language": "python",
   "name": "python3"
  },
  "language_info": {
   "codemirror_mode": {
    "name": "ipython",
    "version": 3
   },
   "file_extension": ".py",
   "mimetype": "text/x-python",
   "name": "python",
   "nbconvert_exporter": "python",
   "pygments_lexer": "ipython3",
   "version": "3.9.12"
  },
  "nbsphinx": {
   "execute": "never"
  }
 },
 "nbformat": 4,
 "nbformat_minor": 4
}
