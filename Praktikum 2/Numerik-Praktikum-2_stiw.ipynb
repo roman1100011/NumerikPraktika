{
 "cells": [
  {
   "cell_type": "markdown",
   "metadata": {},
   "source": [
    "# LU-Zerlegung: Vor- / Rückwärtseinsetzen"
   ]
  },
  {
   "cell_type": "markdown",
   "metadata": {},
   "source": [
    "## Ziel"
   ]
  },
  {
   "cell_type": "markdown",
   "metadata": {},
   "source": [
    "In dieser Lektion implementieren wir das Lösungsverfahren $A x = b$ unter der Annahme, dass eine $LR$-Zerlegung $A = L R$ der Matrix $A$ bereits gegeben ist.\n",
    " \n",
    " **Abgabe**: Sie geben als Praktikumsbericht ihren Code in Matlab oder Python (oder C, oder ...) ab. Für die Bewertung ist ausschlaggebend, dass Sie sich ersichtlich mit der Aufgabe auseinandergesetzt haben, unabhängig davon, ob der Code am Ende läuft oder nicht. Wir werden allerdings im nachfolgenden Praktikum darauf aufbauen."
   ]
  },
  {
   "cell_type": "markdown",
   "metadata": {},
   "source": [
    "## Theorie"
   ]
  },
  {
   "cell_type": "markdown",
   "metadata": {},
   "source": [
    "Lineare Gleichungssysteme $Ax = b$ für $A \\in \\mathbb{R}^{n \\times n}, b \\in \\mathbb{R}^n$ können durch Vorwärts- bzw. Rückwärtseinsetzen gelöst werden, wenn die Matrix $A=R$ eine obere bzw. $A=L$ eine untere Dreiecksmatrix ist. Sie implementieren und testen in diesem Praktikum die beiden Algorithmen. Das *Vorwärtseinsetzen* ist Algorithmus 1 im Skript. Rückwärtseinsetzen funktioniert analog.\n",
    "\n",
    "Je nach Kontext kann zudem eine effiziente Implementierung entscheidend sein, sowohl memory-efficient (kein unnötiges Belegen von Speicherplatz) wie auch time-efficient. Im einzelnen bedeutet das\n",
    "\n",
    " * Die LU-Zerlegung wird in-place ausgeführt, wobei die ursprüngliche Matrix $A$ überschrieben wird. Die resultierende Matrix LR enthält im Dreieck links unten die Matrix $L$, ohne die Diagonalelemente und im Dreieck oben rechts die Matrix R (inklusive Diagonale). Dies enspricht der Vorgehensweise im Unterricht.\n",
    " * Es werden keine Zeilenvertauschungen explizit durchgeführt, stattdessen wird mit einem Indexvektor gearbeitet. \n",
    " \n"
   ]
  },
  {
   "cell_type": "markdown",
   "metadata": {},
   "source": [
    "## Aufgaben"
   ]
  },
  {
   "cell_type": "markdown",
   "metadata": {},
   "source": [
    "### Aufgabe 1 "
   ]
  },
  {
   "cell_type": "markdown",
   "metadata": {},
   "source": [
    "1. Beschreiben Sie das Vorwärtseinsetzen als Pseudocode, analog zu Algorithmus $1$ im Skript.\n",
    "2. Beschreiben Sie in Pseudocode das Vor- und Rückwärtseinsetzen, wenn die LU-Zerlegung in *einer* Matrix $LR$ gegeben ist. Beachten Sie, dass der Vektor $x$ beim Rückwärtseinsetzen überschrieben werden kann. Drücken Sie die Operationen soweit möglich als Skalarprodukte aus.\n",
    "3. Beschreiben Sie die in-place LU-Zerlegung ohne Zeilentausch als Pseudocode. "
   ]
  },
  {
   "cell_type": "markdown",
   "metadata": {},
   "source": [
    "**1. Pseudocode Vorwärtseinsetzen:** \n",
    "\n",
    "*Eingabe:* Eine obere Dreiecksmatrix A und ein Vektor b\n",
    "\n",
    "n = Anzahl der Zeilen in der Matrix A\n",
    "\n",
    "x = Ein n-dimensionaler Nullvektor\n",
    "\n",
    "// Beginne mit der letzten Zeile der Matrix A\n",
    "\n",
    "for i = n-1 down to 0:\n",
    "\n",
    "    sum = 0\n",
    "    \n",
    "    // Summiere die bereits bekannten x-Werte und die Werte in A für diese Zeile\n",
    "    \n",
    "    for j = i+1 to n-1:\n",
    "    \n",
    "        sum += A[i,j] * x[j]\n",
    "        \n",
    "    // Berechne das neue x für diese Zeile\n",
    "    \n",
    "    x[i] = (b[i] - sum) / A[i,i]\n",
    "\n",
    "// Gebe den Vektor x zurück\n",
    "\n",
    "return x\n",
    "\n",
    "*Ausgabe:* Eine Lösungsmenge x für das Gleichungssystem Ax = b\n",
    "\n",
    "\n",
    "\n",
    "**2. Vorwärtseinsetzen:**\n",
    "\n",
    "Für j = n, n − 1, . . . , 1 berechne\n",
    "$$y_j = \\frac{ b_j - \\sum\\limits^{j-1}_{k=1} l_{j,k} y_k}{ l_{j,j} }$$\n",
    "\n",
    "**Rückwärtseinsetzen:**\n",
    "\n",
    "Für j = n, n − 1, . . . , 1 berechne\n",
    "$$x_j = \\frac{ y_j - \\sum\\limits^{n}_{k=j+1} r_{j,k} x_k}{ r_{j,j} }$$\n",
    "\n",
    "**3. in-place LU-Zerlegung ohne Zeilenvertauschen**\n",
    "\n",
    "*Eingabe:* Matrix A\n",
    "\n",
    "     // n-1 Iterationsschritte\n",
    "     \n",
    "   for i := 1 to n-1\n",
    "   \n",
    "     // Zeilen der Restmatrix werden durchlaufen \n",
    "     \n",
    "     for k := i+1 to n\n",
    "     \n",
    "       // Berechnung von L\n",
    "       \n",
    "       A(k,i) := A(k,i) / A(i,i) // Achtung: vorher Prüfung auf Nullwerte notwendig\n",
    "       \n",
    "       // Spalten der Restmatrix werden durchlaufen\n",
    "       \n",
    "       for j := i+1 to n\n",
    "       \n",
    "         // Berechnung von R\n",
    "         \n",
    "         A(k,j) := A(k,j) - A(k,i) * A(i,j)\n",
    "         \n",
    " *Ausgabe:* Matrix A (in modifizierter Form)"
   ]
  },
  {
   "cell_type": "markdown",
   "metadata": {},
   "source": [
    "### Aufgabe 2"
   ]
  },
  {
   "cell_type": "markdown",
   "metadata": {},
   "source": [
    "Implementieren Sie eine Funktion **fbSubs** für das Vorwärts- und Rückwärtseinsetzen. Versuchen Sie, so wenig Schleifen wie möglich zu verwenden!"
   ]
  },
  {
   "cell_type": "code",
   "execution_count": 1,
   "metadata": {},
   "outputs": [],
   "source": [
    "import numpy as np\n",
    "\n",
    "\"\"\"\n",
    "forwardSubs: Vorwärtseinsetzen\n",
    "in: \n",
    " - Matrix LR, die das Ergebnis einer LU-Zerlegung enthält\n",
    " - Vektor b: rechte Seite des LGS\n",
    "out: Lösung x des LGS\n",
    "\"\"\"  \n",
    "\n",
    "#LRtest = np.array([[1,2,3],[1,-1,-2],[3,3,-2]])\n",
    "#btest = np.array([1,-1,2])\n",
    "\n",
    "def forwardSubs(LR, bIn):\n",
    "    b=bIn.copy()\n",
    "    n = len(b)\n",
    "    y = b\n",
    "    for i in range(1,n):\n",
    "        y[i] = (b[i] - np.sum(LR[i,:i]*y[:i]))\n",
    "    return y\n",
    "\n",
    "\n",
    "#ytest = forwardSubs(LRtest,btest)\n",
    "\n",
    "#print(ytest)\n",
    "\n",
    "\"\"\"\n",
    "backwardSubs: Rückwärtseinsetzen\n",
    "in: \n",
    " - Matrix LR, die das Ergebnis einer LU-Zerlegung enthält\n",
    " - Vektor b: rechte Seite des LGS\n",
    "out: Lösung x des LGS\n",
    "\"\"\"  \n",
    "\n",
    "#LRtest = np.array([[1,2,3],[1,-1,-2],[3,3,-2]])\n",
    "#ytest = np.array([1,-2,5])\n",
    "\n",
    "def backwardSubs(LR, y):\n",
    "    n = len(y)\n",
    "    x = y/np.diagonal(LR)\n",
    "    for i in range(n-1, -1, -1):\n",
    "        x[i] = (y[i] - np.sum(LR[i,(i+1):]*x[(i+1):]))/LR[i,i]\n",
    "    return x\n",
    "\n",
    "#xtest = backwardSubs(LRtest,ytest)\n",
    "\n",
    "#print(xtest)\n",
    "\n",
    "\"\"\"\n",
    "fbSubs: Löst das Gleichungssystem LR*x=b\n",
    "in: \n",
    " - Matrix LR, die das Ergebnis einer LU-Zerlegung enthält\n",
    " - Vektor b: rechte Seite des LGS\n",
    "out: Lösung x des LGS\n",
    "\"\"\"  \n",
    "def fbSubs(LR, b):\n",
    "    y = forwardSubs(LR, b)\n",
    "    x = backwardSubs(LR, y)\n",
    "    return x\n",
    "\n",
    "#LRtest = np.array([[1,2,3],[1,-1,-2],[3,3,-2]])\n",
    "#btest = np.array([1,-1,2])\n",
    "#L,R = np.tril(LRtest,-1)+np.identity(3), np.triu(LRtest) \n",
    "#res = L@R@fbSubs(LRtest,btest)\n",
    "#print(res-btest)\n",
    "\n",
    "\n"
   ]
  },
  {
   "cell_type": "markdown",
   "metadata": {},
   "source": [
    "### Aufgabe 3"
   ]
  },
  {
   "cell_type": "markdown",
   "metadata": {},
   "source": [
    "Testen Sie **fbSubs** zuerst mit dem Zahlenbeispiel aus dem Unterricht (wo Sie alles schrittweise nachvollziehen können) und dann mit dem folgenden Testcode, den Sie auch variieren dürfen, bis Sie sicher sind, dass alles wie gewünscht funktioniert. Sie müssen sich im nachfolgenden Praktikum auf **fbSubs** verlassen können!"
   ]
  },
  {
   "cell_type": "code",
   "execution_count": 2,
   "metadata": {},
   "outputs": [],
   "source": [
    "#Test LR\n",
    "n = 7 # Dimension der Koeffizientenmatrix\n",
    "for k in range(1000):                      # Testläufe\n",
    "    LR = np.array(np.random.rand(n,n))   # zufällige Matrix LR \n",
    "    rhs = np.array(np.random.rand(n))    # zufällige rechte Seite des LGS\n",
    "    x = fbSubs(LR, rhs)   # Aufruf der eigenen Funktion\n",
    "    \n",
    "    L,R = np.tril(LR,-1)+np.identity(n), np.triu(LR) # L und R extrahieren\n",
    "    \n",
    "    assert(np.linalg.norm(rhs - L@R@x) < 1e-10)     # Test, mit numerischer Toleranz"
   ]
  },
  {
   "cell_type": "markdown",
   "metadata": {},
   "source": [
    "# Implementierung Gauss-Algorithmus mit Spaltenpivotisierung"
   ]
  },
  {
   "cell_type": "markdown",
   "metadata": {},
   "source": [
    "## Ziel"
   ]
  },
  {
   "cell_type": "markdown",
   "metadata": {},
   "source": [
    " In diesem Praktikum implementieren wir das Lösungsverfahren $A x = b$ inklusive $LU$-Zerlegung $P A = L R$ der Matrix $A$ mit Spaltenpivotisierung.\n",
    " \n",
    " **Abgabe**: Sie geben als Praktikumsbericht ihren Code in Matlab oder Python (oder C, oder ...) ab. Für die Bewertung ist ausschlaggebend, dass Sie sich ersichtlich mit der Aufgabe auseinandergesetzt haben, unabhängig davon, ob der Code am Ende läuft oder nicht. Sie können den Code direkt in das notebook schreiben oder in einer Entwicklungsumgebung Ihrer Wahl. "
   ]
  },
  {
   "cell_type": "markdown",
   "metadata": {},
   "source": [
    "## Theorie"
   ]
  },
  {
   "cell_type": "markdown",
   "metadata": {},
   "source": [
    "Ein lineares Gleichungssystem $Ax = b$ kann gelöst werden, indem die Matrix $A$ in eine untere bzw. obere Dreiecksmatrix zerlegt wird: $A = L R$, falls keine Zeilenvertauschungen notwendig sind bzw. $P A = L R$ mit der zusätzlichen *Permutationsmatrix* $P$, falls Zeilen vertauscht werden. \n",
    "\n",
    "Diesen Prozess nennt man auf Deutsch $LR$-Zerlegung (englisch: $LU$-factorization, für *lower, upper*). Der Algorithmus ist eine kleine Erweiterung des Gauss-Algorithmus (Algorithmus 2 im Skript). $R$ ist die gewohnte Zeilenstufenform, in $l_{ij}$ merken wir uns zusätzlich, mit welchem Faktor Zeile $i$ von Zeile $j$ subtrahiert wurde. Die Beschreibung des Vorgehens entnehmen Sie dem Unterricht.\n",
    "\n",
    "Sind Zeilenvertauschungen notwendig (oder auf Grund einer Pivotstrategie erwünscht), so führt die Permutationsmatrix $P$ Buch über diese Vertauschungen: alle Zeilenvertauschungen in $A$ werden auch in der Matrix $P$ übernommen.\n",
    "\n",
    "Je nach Kontext kann zudem eine effiziente Implementierung entscheidend sein, sowohl memory-efficient (kein unnötiges Belegen von Speicherplatz) wie auch time-efficient. Im einzelnen bedeutet das\n",
    "\n",
    " * Die LU-Zerlegung wird *in-place* ausgeführt, wobei die ursprüngliche Matrix $A$ überschrieben wird. Die resultierende Matrix LR enthält im Dreieck links unten die Matrix $L$, ohne die Diagonalelemente und im Dreieck oben rechts die Matrix R (inklusive Diagonale). Dies enspricht der Vorgehensweise im Unterricht.\n",
    " * Zeilenvertauschungen können formal durch eine Permutationsmatrix $P$ erfasst werden. Es gilt dann $L R = P A$ und man hat wegen $A x = b$ <=> $P A x = P b$ die beiden LGS \n",
    " \n",
    "     $L \\cdot y = P \\cdot b$    und    $R \\cdot x = y$\n",
    "\n",
    "zu lösen. Um die Matrixmultiplikation mit der Permutationsmatrix zu sparen  arbeitet man stattdessen mit einem *Indexvektor* $i$, der zu Beginn auf $i = [0, 1, ..., n-1]$ initialisiert wird. Werden Zeilen in $A$ getauscht, so tauscht man auch die entsprechenden Einträge in $i$ und löst am Ende die beiden LGS\n",
    "\n",
    "$L \\cdot y = b[i]$     und    $R \\cdot x = y$\n",
    "\n",
    "Ziel dieses Praktikums ist eine Funktion **linsolve**, die LGS $A \\cdot x = b$ mit Hilfe einer *in-place* *LU-Zerlegung* mit Spaltenpivotisierung löst. Wir verwenden die Ergebnisse des letzten Prakikums:"
   ]
  },
  {
   "cell_type": "markdown",
   "metadata": {},
   "source": [
    "## Aufgaben"
   ]
  },
  {
   "cell_type": "markdown",
   "metadata": {},
   "source": [
    "### Aufgabe 1"
   ]
  },
  {
   "cell_type": "markdown",
   "metadata": {},
   "source": [
    "Implementieren Sie die *LU-Zerlegung*: die Funktion **LU** nimmt als Input eine quadratische Matrix $A$ und gibt Dreiecksmatrizen $L, R$ zurück, so dass $L R = A$ gilt. Im ersten Schritt lassen wir die Pivotisierung weg. Der Indexvektor **idx** bleibt dann unverändert."
   ]
  },
  {
   "cell_type": "code",
   "execution_count": 3,
   "metadata": {},
   "outputs": [
    {
     "data": {
      "text/plain": [
       "(array([[6.        , 3.        , 3.        ],\n",
       "        [0.5       , 4.5       , 1.5       ],\n",
       "        [0.16666667, 0.55555556, 4.66666667]]),\n",
       " array([2, 0, 1]))"
      ]
     },
     "execution_count": 3,
     "metadata": {},
     "output_type": "execute_result"
    }
   ],
   "source": [
    "# LU-Zerlegung der quadratischen Matrix A    \n",
    "# in: quadratische Matrix A\n",
    "#out: \n",
    "# - A wird überschrieben, unteres Dreieck = L (ohne Diagonale), oberes Dreieck = R\n",
    "# - idx: Indexvektor der Zeilenvertauschungen\n",
    "\n",
    "import numpy as np\n",
    "\n",
    "def LU(A):\n",
    "    m = A.shape[0]\n",
    "    idx = np.array(range(m))\n",
    "    for i in range(m):                  #jedes Pivotelement durchgehen\n",
    "        max = np.argmax(np.abs(A[i:,i])) + i\n",
    "        A[[i,max]] = A[[max,i]]\n",
    "        idx[[i,max]]= idx[[max,i]]\n",
    "        for j in range(i+1,m):          #alle Zeilen unterhalb des jeweiligen Pivotelements durchgehen\n",
    "            fac = -(A[j,i] / A[i,i])    #Faktor für die aktuelle Zeile ausrechnen\n",
    "            A[j,i:] += fac * A[i,i:]      #Jeweilige Zeile mit der ersten Zeile mal dem Faktor addieren\n",
    "            A[j,i] = -fac               #Den Faktor direkt in die untere Matrix speichern\n",
    "    return A, idx\n",
    "\n",
    "A = np.array([[3.,6,3],[1,3,6],[6,3,3]])\n",
    "LU(A)\n"
   ]
  },
  {
   "cell_type": "markdown",
   "metadata": {},
   "source": [
    "Testen Sie **LU** mit zufällig erzeugten Matrizen.  "
   ]
  },
  {
   "cell_type": "code",
   "execution_count": 4,
   "metadata": {},
   "outputs": [
    {
     "name": "stdout",
     "output_type": "stream",
     "text": [
      "test completed\n"
     ]
    }
   ],
   "source": [
    "n = 3\n",
    "#test LU\n",
    "for k in range(1000):\n",
    "    A = np.array( np.random.rand(n,n) )   # zufällige Matrix A erzeugen\n",
    "    LR, idx = LU(A.copy())                  # LU-Zerlegung von A   \n",
    "    L,R = np.tril(LR,-1)+np.identity(n), np.triu(LR)  # Matrizen L, R extrahieren  \n",
    "    assert( np.linalg.norm(L@R - A[idx]) < 1e-8)\n",
    "\n",
    "print(\"test completed\")"
   ]
  },
  {
   "cell_type": "markdown",
   "metadata": {},
   "source": [
    "### Aufgabe 2"
   ]
  },
  {
   "cell_type": "markdown",
   "metadata": {},
   "source": [
    "Erstellen Sie eine Funktion **linsolve(A, b)**, die für eine Matrix $A$ und einen Vektor $b$ das LGS $A x = b$ mit Hilfe der *LR-Zerlegung* und dem Vorwärts- und Rückwärtseinsetzen löst."
   ]
  },
  {
   "cell_type": "code",
   "execution_count": 9,
   "metadata": {},
   "outputs": [
    {
     "name": "stdout",
     "output_type": "stream",
     "text": [
      "[1 0 2]\n",
      "[[ 2.         -1.          0.        ]\n",
      " [ 0.5         3.5        -2.        ]\n",
      " [-0.5         0.14285714  3.28571429]]\n",
      "[[ 0.5         3.5        -2.        ]\n",
      " [ 2.         -1.          0.        ]\n",
      " [-0.5         0.14285714  3.28571429]]\n",
      "[-10.47826087   5.           4.63043478]\n"
     ]
    }
   ],
   "source": [
    "# lineares Gleichungssystem A*x = b lösen.\n",
    "def linsolve(A, b):\n",
    "    LR, idx = LU(A.copy())\n",
    "    print(idx)\n",
    "    print(LR)\n",
    "    print(LR[idx])\n",
    "    x = fbSubs(LR[idx],b)\n",
    "    return x\n",
    "\n",
    "A = np.array([[1.,3,-2],[2,-1,0],[-1,1,3]])\n",
    "b = np.array([3.,1,13])\n",
    "\n",
    "res = linsolve(A,b)\n",
    "print(res)"
   ]
  },
  {
   "cell_type": "markdown",
   "metadata": {},
   "source": [
    "Testen Sie **linsolve** mit zufällig erzeugten Matrizen"
   ]
  },
  {
   "cell_type": "code",
   "execution_count": 10,
   "metadata": {},
   "outputs": [
    {
     "name": "stdout",
     "output_type": "stream",
     "text": [
      "[2 0 1]\n",
      "[[ 0.51594279  0.30287398  0.28973979]\n",
      " [ 0.97600906  0.33775271  0.68357463]\n",
      " [ 0.1652526   0.50349335 -0.37612616]]\n",
      "[[ 0.1652526   0.50349335 -0.37612616]\n",
      " [ 0.51594279  0.30287398  0.28973979]\n",
      " [ 0.97600906  0.33775271  0.68357463]]\n"
     ]
    },
    {
     "ename": "AssertionError",
     "evalue": "",
     "output_type": "error",
     "traceback": [
      "\u001b[1;31m---------------------------------------------------------------------------\u001b[0m",
      "\u001b[1;31mAssertionError\u001b[0m                            Traceback (most recent call last)",
      "Cell \u001b[1;32mIn[10], line 6\u001b[0m\n\u001b[0;32m      4\u001b[0m rhs \u001b[39m=\u001b[39m np\u001b[39m.\u001b[39mrandom\u001b[39m.\u001b[39mrand(n)\n\u001b[0;32m      5\u001b[0m x \u001b[39m=\u001b[39m linsolve(A, rhs)   \n\u001b[1;32m----> 6\u001b[0m \u001b[39massert\u001b[39;00m(np\u001b[39m.\u001b[39mlinalg\u001b[39m.\u001b[39mnorm(rhs \u001b[39m-\u001b[39m A \u001b[39m@\u001b[39m x) \u001b[39m<\u001b[39m \u001b[39m1e-8\u001b[39m)\n",
      "\u001b[1;31mAssertionError\u001b[0m: "
     ]
    }
   ],
   "source": [
    "#test linsolve\n",
    "for k in range(10):\n",
    "    A = np.random.rand(n,n)\n",
    "    rhs = np.random.rand(n)\n",
    "    x = linsolve(A, rhs)   \n",
    "    assert(np.linalg.norm(rhs - A @ x) < 1e-8)"
   ]
  },
  {
   "cell_type": "markdown",
   "metadata": {},
   "source": [
    "Mit der folgenden Funktion *rndCond(n, cond)* können Sie zufällige $n \\times n$ Matrizen mit vorgegebener Konditionszahl *cond* erzeugen. "
   ]
  },
  {
   "cell_type": "code",
   "execution_count": null,
   "metadata": {},
   "outputs": [],
   "source": [
    "import numpy.linalg as lin\n",
    "import numpy.random as rnd\n",
    "\n",
    "# random orthogonal matrix\n",
    "def rndOrtho(n):\n",
    "    S = rnd.rand(n,n)\n",
    "    S = S - S.T\n",
    "    O = lin.solve(S - np.identity(n), S + np.identity(n))\n",
    "    return O\n",
    "\n",
    "# random matrix with specified condition number\n",
    "def rndCond(n, cond):    \n",
    "    d = np.logspace(-np.log10(cond)/2, np.log10(cond)/2,n);\n",
    "    A = np.diag(d)\n",
    "    U,V = rndOrtho(n), rndOrtho(n)\n",
    "    return U@A@V.T"
   ]
  },
  {
   "cell_type": "markdown",
   "metadata": {},
   "source": [
    "Verwenden Sie diese, um Ihre Implementation von *linsolve* zu testen. Berechnen Sie den relativen Fehler $\\frac{|\\Delta_x|}{|x|}$ und vergleichen Sie mit dem Ergebnis von *linsolve* aus der Bibliothek *numpy.linalg*. "
   ]
  },
  {
   "cell_type": "code",
   "execution_count": null,
   "metadata": {},
   "outputs": [
    {
     "name": "stdout",
     "output_type": "stream",
     "text": [
      "2031418483295.4785\n"
     ]
    }
   ],
   "source": [
    "N = 1\n",
    "for k in range(N):\n",
    "    A = rndCond(n, 1e14)\n",
    "    b = rnd.rand(n)\n",
    "    x = linsolve(A,b)\n",
    "    dx = (b - x@A)\n",
    "    xrel = 0\n",
    "    print(np.linalg.norm(dx))\n",
    "\n",
    "    "
   ]
  },
  {
   "cell_type": "markdown",
   "metadata": {},
   "source": [
    "### Aufgabe 3"
   ]
  },
  {
   "cell_type": "markdown",
   "metadata": {},
   "source": [
    "Implementieren Sie die Spaltenpivotisierung und wiederholen Sie die Testläufe aus Aufgabe 2"
   ]
  },
  {
   "cell_type": "code",
   "execution_count": null,
   "metadata": {},
   "outputs": [],
   "source": [
    "# Die LU-Zerlegung mit Pivotisierung funktioniert so, allerdings funktioniert nun die linsolve FUnktion nicht mehr, \n",
    "#wir haben es noch nicht geschafft die linsolve mit Pivotisierung zum laufen zu bringen \n",
    "\n",
    "import numpy as np\n",
    "\n",
    "def LU(A):\n",
    "    m = A.shape[0]\n",
    "    idx = np.array(range(m))\n",
    "    for i in range(m):                  #jedes Pivotelement durchgehen\n",
    "        max = np.argmax(np.abs(A[i:,i])) + i\n",
    "        A[[i,max]] = A[[max,i]]\n",
    "        idx[[i,max]]= idx[[max,i]]\n",
    "        for j in range(i+1,m):          #alle Zeilen unterhalb des jeweiligen Pivotelements durchgehen\n",
    "            fac = -(A[j,i] / A[i,i])    #Faktor für die aktuelle Zeile ausrechnen\n",
    "            A[j,i:] += fac * A[i,i:]      #Jeweilige Zeile mit der ersten Zeile mal dem Faktor addieren\n",
    "            A[j,i] = -fac               #Den Faktor direkt in die untere Matrix speichern\n",
    "    return A, idx\n",
    "\n",
    "A = np.array([[3.,6,3],[1,3,6],[6,3,3]])\n",
    "LU(A)\n"
   ]
  }
 ],
 "metadata": {
  "kernelspec": {
   "display_name": "Python 3 (ipykernel)",
   "language": "python",
   "name": "python3"
  },
  "language_info": {
   "codemirror_mode": {
    "name": "ipython",
    "version": 3
   },
   "file_extension": ".py",
   "mimetype": "text/x-python",
   "name": "python",
   "nbconvert_exporter": "python",
   "pygments_lexer": "ipython3",
   "version": "3.10.9"
  },
  "nbsphinx": {
   "execute": "never"
  }
 },
 "nbformat": 4,
 "nbformat_minor": 4
}
