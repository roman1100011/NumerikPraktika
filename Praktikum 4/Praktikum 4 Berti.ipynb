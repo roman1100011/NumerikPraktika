{
 "cells": [
  {
   "cell_type": "markdown",
   "source": [
    "\n",
    "Abtastrate\n"
   ],
   "metadata": {
    "collapsed": false
   }
  },
  {
   "cell_type": "markdown",
   "source": [
    "Die Abtastrate ist 100Hz"
   ],
   "metadata": {
    "collapsed": false
   }
  },
  {
   "cell_type": "markdown",
   "source": [
    "Geshätzte Grundfrequenz : 1-2Hz"
   ],
   "metadata": {
    "collapsed": false
   }
  },
  {
   "cell_type": "code",
   "execution_count": 5,
   "outputs": [
    {
     "name": "stdout",
     "output_type": "stream",
     "text": [
      "Omega: 6.28 - 12.57 \n"
     ]
    }
   ],
   "source": [
    "import numpy as np\n",
    "print('Omega: %.2f - %.2f '% (np.pi*2*1,np.pi*2*2 ))"
   ],
   "metadata": {
    "collapsed": false
   }
  },
  {
   "cell_type": "markdown",
   "source": [
    "Dimension\n",
    "\n",
    "fn(t) hat die Dimension nx3\n",
    "1.Spalte: a_0\n",
    "2.Spalte: a_n\n",
    "3.Spalte: b_n"
   ],
   "metadata": {
    "collapsed": false
   }
  }
 ],
 "metadata": {
  "kernelspec": {
   "display_name": "Python 3",
   "language": "python",
   "name": "python3"
  },
  "language_info": {
   "codemirror_mode": {
    "name": "ipython",
    "version": 2
   },
   "file_extension": ".py",
   "mimetype": "text/x-python",
   "name": "python",
   "nbconvert_exporter": "python",
   "pygments_lexer": "ipython2",
   "version": "2.7.6"
  }
 },
 "nbformat": 4,
 "nbformat_minor": 0
}
