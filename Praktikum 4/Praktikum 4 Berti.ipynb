{
 "cells": [
  {
   "cell_type": "markdown",
   "metadata": {},
   "source": [
    "\n",
    "## Abtastrate\n"
   ]
  },
  {
   "cell_type": "markdown",
   "metadata": {},
   "source": [
    "Die Abtastrate ist 100Hz"
   ]
  },
  {
   "cell_type": "markdown",
   "metadata": {},
   "source": [
    "Geshätzte Grundfrequenz : 1-2Hz"
   ]
  },
  {
   "cell_type": "code",
   "execution_count": null,
   "metadata": {
    "pycharm": {
     "is_executing": true
    }
   },
   "outputs": [],
   "source": [
    "import numpy as np\n",
    "print('Omega: %.2f - %.2f '% (np.pi*2*1,np.pi*2*2 ))"
   ]
  },
  {
   "cell_type": "markdown",
   "metadata": {},
   "source": [
    "## Dimension\n",
    "\n",
    "fn(t) hat die Dimension nx3\n",
    "1.Spalte: a_0\n",
    "2.Spalte: a_n\n",
    "3.Spalte: b_n"
   ]
  },
  {
   "cell_type": "code",
   "execution_count": null,
   "metadata": {},
   "outputs": [],
   "source": [
    "import numpy as np\n",
    "import matplotlib.pyplot as plt\n",
    "plt.style.use('_mpl-gallery')\n",
    "\n",
    "#---------------------------------------Data importieren--------------------------------\n",
    "data = np.genfromtxt(\"data.txt\")\n",
    "# plot\n",
    "\n",
    "\n",
    "#---------------------------------------Achsen separieren--------------------------------\n",
    "x=data[:,0]\n",
    "y=data[:,1]\n",
    "#--------------------------------------Abtastrate---------------------------------------------\n",
    "Ts=np.amax(x)/(len(x)-1)\n",
    "#--------------------------------------System---------------------------------------------\n",
    "time = np.linspace(0,np.amax(x),len(x))\n",
    "spect_raw = np.fft.fft(y)\n",
    "spect_raw = spect_raw/len(spect_raw)\n",
    "freq = np.fft.fftfreq(time.size,d=0.01)\n",
    "\n",
    "fit = np.array(np.zeros(len(time)))\n",
    "for n in range(len(spect_raw)):\n",
    "       for t in range(len(x)):\n",
    "              fit[t] = fit[t] +spect_raw.real[n]*np.cos(freq[n]*2*np.pi*x[t])+np.imag(spect_raw.imag[n])*np.sin(freq[n]*2*np.pi*x[t])\n",
    "#--------------------------------------Plot---------------------------------------------\n",
    "fig, ax = plt.subplots()\n",
    "ax.plot(x,y,x,fit)\n",
    "ax.set(xlim=(0,np.amax(x)), xticks=np.arange(0, np.amax(x)),\n",
    "       ylim=(np.amin(y)-0.1, np.amax(y)+0.1), yticks=np.arange(np.amin(y)-0.1, np.amax(y)+0.1))\n",
    "ax.set_xlabel(\"time [s]\")\n",
    "ax.set_xlabel(\"Amplitude [V]\")\n",
    "\n",
    "plt.show()\n",
    "\n",
    "\n",
    "\n",
    "fig, ax = plt.subplots()\n",
    "ax.plot(time,fit,linewidth=0.1)\n",
    "ax.set(xlim=(0,np.amax(time)), xticks=np.arange(0, np.amax(time)),\n",
    "       ylim=(np.amin(fit)-0.1, np.amax(fit)+0.1), yticks=np.arange(np.amin(fit)-0.1, np.amax(fit)+0.1))\n",
    "plt.show()\n",
    "print(\"smapl time: \", Ts,'\\n')\n",
    "# See PyCharm help at https://www.jetbrains.com/help/pycharm/"
   ]
  }
 ],
 "metadata": {
  "kernelspec": {
   "display_name": "Python 3 (ipykernel)",
   "language": "python",
   "name": "python3"
  },
  "language_info": {
   "codemirror_mode": {
    "name": "ipython",
    "version": 3
   },
   "file_extension": ".py",
   "mimetype": "text/x-python",
   "name": "python",
   "nbconvert_exporter": "python",
   "pygments_lexer": "ipython3",
   "version": "3.10.10"
  }
 },
 "nbformat": 4,
 "nbformat_minor": 1
}
