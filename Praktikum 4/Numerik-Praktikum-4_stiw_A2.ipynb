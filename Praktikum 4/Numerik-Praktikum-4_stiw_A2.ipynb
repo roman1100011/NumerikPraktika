{
 "cells": [
  {
   "cell_type": "markdown",
   "id": "a9f57b4a",
   "metadata": {},
   "source": [
    "# Praktikum SW04"
   ]
  },
  {
   "cell_type": "markdown",
   "id": "dfe04af0",
   "metadata": {},
   "source": [
    "## Aufgabe 2\n",
    "\n",
    "Gegeben ist die Entladungskurve eines RC-Netzwerk Kondensators mit der Kapazität 𝐶. Der Innenwiderstand 𝑅𝐶 beträgt 𝑅𝐶 = 100Ω.\n",
    "\n",
    "\n",
    "| Zeit [ms] | Spannung [V]|\n",
    "|----------|-------------|\n",
    "| 0.0   |  5.0  |\n",
    "| 0.03  |  2.94 |\n",
    "| 0.05  |  1.73 |\n",
    "| 0.08  |  1.01 |\n",
    "| 0.10  |  0.6  |\n",
    "\n",
    "\n",
    "Bestimmen Sie mit Hilfe eines 𝑅𝐶-Glieds und der linearen Ausgleichsrechnung die Kapazität 𝐶 des Kondensators. \n",
    "\n",
    "1. Wie lautet die Differentialgleichung? Berechnen Sie die allgemeine Lösung als Basis für das Modell.\n",
    "2. Wie lautet die Systemmatrix?\n",
    "3. Wie gross ist die Kapazität?"
   ]
  },
  {
   "cell_type": "markdown",
   "id": "c6e4f7d8",
   "metadata": {},
   "source": [
    "### 1. ODE\n",
    "Die ODE lautet wie folgt:\n",
    "\n",
    "$\\dot{U}(t)=U_0-\\frac{-1}{RC}\\cdot U(t)$\n",
    "\n",
    "Mit der allgemeinen Lösung:\n",
    "\n",
    "$U(t)=U_0 \\cdot e^{\\frac{-1}{RC} \\cdot t}$"
   ]
  },
  {
   "cell_type": "markdown",
   "id": "ce5a4fad",
   "metadata": {},
   "source": [
    "### 2. Systemmatrix\n",
    "\n"
   ]
  },
  {
   "cell_type": "code",
   "execution_count": 147,
   "id": "518552c1",
   "metadata": {
    "scrolled": true
   },
   "outputs": [
    {
     "name": "stdout",
     "output_type": "stream",
     "text": [
      "20655.6583472328\n",
      "4.84128844111118e-7\n"
     ]
    }
   ],
   "source": [
    "# ------------ Lösung mit festem Wert für U0 ----------------\n",
    "\n",
    "import numpy as np\n",
    "import sympy as sy\n",
    "\n",
    "# Input der Daten\n",
    "t = np.array([0,0.00003,0.00005,0.00008,0.0001])  # Zeitvektor\n",
    "U = np.array([5,2.94,1.73,1.01,0.6])  # Spannungsvektor\n",
    "R = 100                               # Innenwiderstand über den der Kondensator entladen wird\n",
    "x = sy.S('x')        # Parametervektor (tau)\n",
    "\n",
    "\n",
    "A  = -t                # Systemmatrix\n",
    "At = A.transpose()    # transponierte der Systemmatrix\n",
    "AtA= np.dot(A,At)    # Matrixmultiplikation Systemmatrix mit ihrer Transponierten\n",
    "b  = np.log(U/U[0])   # b-Vektor\n",
    "Atb= np.dot(At,b)    # Matrixmultiplikation Systemmatrix mit b-Vektor\n",
    "\n",
    "\n",
    "ngl = AtA*x - Atb        # Normalengleichung\n",
    "tau = sy.solve(ngl , x)  # ... und deren Lösung\n",
    "\n",
    "tau = tau[0]             # Das tau aus dem Vektor rausholen\n",
    "\n",
    "C = 1/(R*tau)\n",
    "\n",
    "print(tau)\n",
    "print(C)"
   ]
  },
  {
   "cell_type": "code",
   "execution_count": 146,
   "id": "87220b5d",
   "metadata": {},
   "outputs": [
    {
     "name": "stdout",
     "output_type": "stream",
     "text": [
      "21139.020020730026\n",
      "4.730588262934364e-07\n",
      "5.1874786140433855\n"
     ]
    }
   ],
   "source": [
    "# ------------ Lösung mit regressiertem Wert für U0 ----------\n",
    "\n",
    "import numpy as np\n",
    "import sympy as sy\n",
    "import scipy as sc\n",
    "import math as ma\n",
    "from numpy.linalg import cholesky\n",
    "from scipy.linalg import solve_triangular\n",
    "\n",
    "# Input der Daten\n",
    "t = np.array([0,0.00003,0.00005,0.00008,0.0001])  # Zeitvektor\n",
    "U = np.array([5,2.94,1.73,1.01,0.6])  # Spannungsvektor\n",
    "R = 100                               # Innenwiderstand über den der Kondensator entladen wird\n",
    "\n",
    "\n",
    "At = np.array([[1, 1, 1, 1, 1],-t])\n",
    "A  = np.transpose(At)   # transponierte der Systemmatrix\n",
    "\n",
    "\n",
    "AtA= np.dot(At,A)    # Matrixmultiplikation Systemmatrix mit ihrer Transponierten\n",
    "b  = np.log(U)       # b-Vektor\n",
    "Atb= np.dot(At,b)    # Matrixmultiplikation Systemmatrix mit b-Vektor\n",
    "x  = np.transpose(np.array([np.log(U[0]),tau])) # Parametervektor\n",
    "\n",
    "\n",
    "L = cholesky(AtA)\n",
    "Lt= np.transpose(L)\n",
    "y = solve_triangular(L,Atb,lower=True)\n",
    "y = solve_triangular(Lt,y)\n",
    "\n",
    "\n",
    "tau = y[1]\n",
    "\n",
    "C = 1/(R*tau)\n",
    "\n",
    "U0 = ma.exp(y[0])\n",
    "\n",
    "print(tau)\n",
    "print(C)\n",
    "print(U0)\n"
   ]
  }
 ],
 "metadata": {
  "kernelspec": {
   "display_name": "Python 3 (ipykernel)",
   "language": "python",
   "name": "python3"
  },
  "language_info": {
   "codemirror_mode": {
    "name": "ipython",
    "version": 3
   },
   "file_extension": ".py",
   "mimetype": "text/x-python",
   "name": "python",
   "nbconvert_exporter": "python",
   "pygments_lexer": "ipython3",
   "version": "3.9.12"
  }
 },
 "nbformat": 4,
 "nbformat_minor": 5
}
