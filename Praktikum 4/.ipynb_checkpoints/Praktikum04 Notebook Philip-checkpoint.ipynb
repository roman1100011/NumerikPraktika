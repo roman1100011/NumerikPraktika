{
 "cells": [
  {
   "cell_type": "markdown",
   "id": "dfe04af0",
   "metadata": {},
   "source": [
    "\n",
    "# Praktikum SW04\n",
    "\n",
    "## Aufgabe 2\n",
    "\n",
    "Gegeben ist die Entladungskurve eines RC-Netzwerk Kondensators mit der Kapazität 𝐶. Der Innenwiderstand 𝑅𝐶 beträgt 𝑅𝐶 = 100Ω.\n",
    "\n",
    "\n",
    "| Zeit [ms] | Spannung [V]|\n",
    "|----------|-------------|\n",
    "| 0.0   |  5.0  |\n",
    "| 0.03  |  2.94 |\n",
    "| 0.05  |  1.73 |\n",
    "| 0.08  |  1.01 |\n",
    "| 0.10  |  0.6  |\n",
    "\n",
    "\n",
    "Bestimmen Sie mit Hilfe eines 𝑅𝐶-Glieds und der linearen Ausgleichsrechnung die Kapazität 𝐶 des Kondensators. \n",
    "\n",
    "1. Wie lautet die Differentialgleichung? Berechnen Sie die allgemeine Lösung als Basis für das Modell.\n",
    "2. Wie lautet die Systemmatrix?\n",
    "3. Wie gross ist die Kapazität?"
   ]
  },
  {
   "cell_type": "markdown",
   "id": "c6e4f7d8",
   "metadata": {},
   "source": [
    "### 1. ODE\n",
    "Die ODE lautet wie folgt:\n",
    "\n",
    "$\\dot{U}(t)=U_0-\\frac{-1}{RC}\\cdot U(t)$\n",
    "\n",
    "Mit der allgemeinen Lösung:\n",
    "\n",
    "$U(t)=U_0 \\cdot e^{\\frac{-1}{RC} \\cdot t}$"
   ]
  },
  {
   "cell_type": "markdown",
   "id": "ce5a4fad",
   "metadata": {},
   "source": [
    "### 2. Systemmatrix\n",
    "\n"
   ]
  },
  {
   "cell_type": "code",
   "execution_count": 2,
   "id": "518552c1",
   "metadata": {
    "scrolled": true
   },
   "outputs": [
    {
     "name": "stdout",
     "output_type": "stream",
     "text": [
      "[]\n"
     ]
    }
   ],
   "source": [
    "import numpy as np\n",
    "import sympy as sy\n",
    "import matplotlib.pyplot as plt\n",
    "\n",
    "t = np.array([0,0.03,0.05,0.08,0.1])  # Zeitvektor\n",
    "U = np.array([5,2.94,1.73,1.01,0.6])  # Spannungsvektor\n",
    "R = 100  # Innenwiderstand über den der Kondensator entladen wird\n",
    "C = sy.S('C') # Kapazität des Kondensators\n",
    "\n",
    "\n",
    "x = -1/(R*C)\n",
    "A = t\n",
    "At= t.transpose()\n",
    "b = np.log(U*U[0])\n",
    "\n",
    "C= sy.solve(At*A*(-1/(R*C)) -At*b == 0 , C)\n",
    "\n",
    "print(C)"
   ]
  },
  {
   "cell_type": "code",
   "execution_count": null,
   "id": "bd878079",
   "metadata": {},
   "outputs": [],
   "source": []
  },
  {
   "cell_type": "code",
   "execution_count": null,
   "id": "87220b5d",
   "metadata": {},
   "outputs": [],
   "source": []
  },
  {
   "cell_type": "code",
   "execution_count": null,
   "id": "c359c504",
   "metadata": {},
   "outputs": [],
   "source": []
  },
  {
   "cell_type": "code",
   "execution_count": null,
   "id": "dc5463d4",
   "metadata": {},
   "outputs": [],
   "source": []
  },
  {
   "cell_type": "code",
   "execution_count": null,
   "id": "f75abaa4",
   "metadata": {},
   "outputs": [],
   "source": []
  }
 ],
 "metadata": {
  "kernelspec": {
   "display_name": "Python 3 (ipykernel)",
   "language": "python",
   "name": "python3"
  },
  "language_info": {
   "codemirror_mode": {
    "name": "ipython",
    "version": 3
   },
   "file_extension": ".py",
   "mimetype": "text/x-python",
   "name": "python",
   "nbconvert_exporter": "python",
   "pygments_lexer": "ipython3",
   "version": "3.9.12"
  }
 },
 "nbformat": 4,
 "nbformat_minor": 5
}
